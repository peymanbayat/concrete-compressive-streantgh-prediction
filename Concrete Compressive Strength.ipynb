{
 "cells": [
  {
   "cell_type": "code",
   "execution_count": 2,
   "id": "8c7cb3a5",
   "metadata": {},
   "outputs": [],
   "source": [
    "# Import Libraries\n",
    "import pandas as pd\n",
    "import numpy as np\n",
    "import matplotlib.pyplot as plt\n",
    "import seaborn as sns\n",
    "\n",
    "from sklearn.preprocessing import StandardScaler\n",
    "from sklearn.pipeline import make_pipeline\n",
    "from sklearn.model_selection import train_test_split, GridSearchCV, KFold, StratifiedKFold, cross_val_score\n",
    "from sklearn.neighbors import KNeighborsRegressor\n",
    "from sklearn.linear_model import LinearRegression, Ridge, Lasso\n",
    "from sklearn.tree import DecisionTreeRegressor, plot_tree\n",
    "from sklearn.ensemble import RandomForestRegressor, GradientBoostingRegressor\n",
    "from sklearn.svm import SVR, LinearSVR\n",
    "\n",
    "# Metrics\n",
    "from sklearn.metrics import mean_absolute_error, mean_squared_error, mean_absolute_percentage_error, r2_score"
   ]
  },
  {
   "cell_type": "markdown",
   "id": "b0a1b251-5dfd-42b2-8d5f-027afe4d4ed7",
   "metadata": {},
   "source": [
    "### Import Data"
   ]
  },
  {
   "cell_type": "code",
   "execution_count": 2,
   "id": "8982e7c1",
   "metadata": {},
   "outputs": [],
   "source": [
    "df =  pd.read_csv(\"Concrete_Data.csv\")"
   ]
  },
  {
   "cell_type": "code",
   "execution_count": 3,
   "id": "dd9bce5c",
   "metadata": {},
   "outputs": [],
   "source": [
    "df.rename(\n",
    "    columns=\n",
    "    {\n",
    "        \"Cement (component 1)(kg in a m^3 mixture)\":\"Cement\",\n",
    "        \"Blast Furnace Slag (component 2)(kg in a m^3 mixture)\":\"BFS\",\n",
    "        \"Fly Ash (component 3)(kg in a m^3 mixture)\":\"Fly_Ash\",\n",
    "        \"Water  (component 4)(kg in a m^3 mixture)\":\"Water\",\n",
    "        \"Superplasticizer (component 5)(kg in a m^3 mixture)\":\"Superplasticizer\",\n",
    "        \"Coarse Aggregate  (component 6)(kg in a m^3 mixture)\":\"Coarse_Aggregate\",\n",
    "        \"Fine Aggregate (component 7)(kg in a m^3 mixture)\":\"Fine_Aggregate\",\n",
    "        \"Age (day)\":\"Age\",\n",
    "        \"Concrete compressive strength(MPa, megapascals) \":\"Concrete_Strength\"\n",
    "    },\n",
    "    inplace=True\n",
    ")"
   ]
  },
  {
   "cell_type": "markdown",
   "id": "2669e31f-48a1-4fcc-bfbe-8e12d3222bf9",
   "metadata": {},
   "source": [
    "### Exploratory Data Analysis"
   ]
  },
  {
   "cell_type": "code",
   "execution_count": 4,
   "id": "e0e1e2de",
   "metadata": {},
   "outputs": [
    {
     "data": {
      "text/html": [
       "<div>\n",
       "<style scoped>\n",
       "    .dataframe tbody tr th:only-of-type {\n",
       "        vertical-align: middle;\n",
       "    }\n",
       "\n",
       "    .dataframe tbody tr th {\n",
       "        vertical-align: top;\n",
       "    }\n",
       "\n",
       "    .dataframe thead th {\n",
       "        text-align: right;\n",
       "    }\n",
       "</style>\n",
       "<table border=\"1\" class=\"dataframe\">\n",
       "  <thead>\n",
       "    <tr style=\"text-align: right;\">\n",
       "      <th></th>\n",
       "      <th>Cement</th>\n",
       "      <th>BFS</th>\n",
       "      <th>Fly_Ash</th>\n",
       "      <th>Water</th>\n",
       "      <th>Superplasticizer</th>\n",
       "      <th>Coarse_Aggregate</th>\n",
       "      <th>Fine_Aggregate</th>\n",
       "      <th>Age</th>\n",
       "      <th>Concrete_Strength</th>\n",
       "    </tr>\n",
       "  </thead>\n",
       "  <tbody>\n",
       "    <tr>\n",
       "      <th>0</th>\n",
       "      <td>540.0</td>\n",
       "      <td>0.0</td>\n",
       "      <td>0.0</td>\n",
       "      <td>162.0</td>\n",
       "      <td>2.5</td>\n",
       "      <td>1040.0</td>\n",
       "      <td>676.0</td>\n",
       "      <td>28</td>\n",
       "      <td>79.99</td>\n",
       "    </tr>\n",
       "    <tr>\n",
       "      <th>1</th>\n",
       "      <td>540.0</td>\n",
       "      <td>0.0</td>\n",
       "      <td>0.0</td>\n",
       "      <td>162.0</td>\n",
       "      <td>2.5</td>\n",
       "      <td>1055.0</td>\n",
       "      <td>676.0</td>\n",
       "      <td>28</td>\n",
       "      <td>61.89</td>\n",
       "    </tr>\n",
       "    <tr>\n",
       "      <th>2</th>\n",
       "      <td>332.5</td>\n",
       "      <td>142.5</td>\n",
       "      <td>0.0</td>\n",
       "      <td>228.0</td>\n",
       "      <td>0.0</td>\n",
       "      <td>932.0</td>\n",
       "      <td>594.0</td>\n",
       "      <td>270</td>\n",
       "      <td>40.27</td>\n",
       "    </tr>\n",
       "    <tr>\n",
       "      <th>3</th>\n",
       "      <td>332.5</td>\n",
       "      <td>142.5</td>\n",
       "      <td>0.0</td>\n",
       "      <td>228.0</td>\n",
       "      <td>0.0</td>\n",
       "      <td>932.0</td>\n",
       "      <td>594.0</td>\n",
       "      <td>365</td>\n",
       "      <td>41.05</td>\n",
       "    </tr>\n",
       "    <tr>\n",
       "      <th>4</th>\n",
       "      <td>198.6</td>\n",
       "      <td>132.4</td>\n",
       "      <td>0.0</td>\n",
       "      <td>192.0</td>\n",
       "      <td>0.0</td>\n",
       "      <td>978.4</td>\n",
       "      <td>825.5</td>\n",
       "      <td>360</td>\n",
       "      <td>44.30</td>\n",
       "    </tr>\n",
       "  </tbody>\n",
       "</table>\n",
       "</div>"
      ],
      "text/plain": [
       "   Cement    BFS  Fly_Ash  Water  Superplasticizer  Coarse_Aggregate  \\\n",
       "0   540.0    0.0      0.0  162.0               2.5            1040.0   \n",
       "1   540.0    0.0      0.0  162.0               2.5            1055.0   \n",
       "2   332.5  142.5      0.0  228.0               0.0             932.0   \n",
       "3   332.5  142.5      0.0  228.0               0.0             932.0   \n",
       "4   198.6  132.4      0.0  192.0               0.0             978.4   \n",
       "\n",
       "   Fine_Aggregate  Age  Concrete_Strength  \n",
       "0           676.0   28              79.99  \n",
       "1           676.0   28              61.89  \n",
       "2           594.0  270              40.27  \n",
       "3           594.0  365              41.05  \n",
       "4           825.5  360              44.30  "
      ]
     },
     "execution_count": 4,
     "metadata": {},
     "output_type": "execute_result"
    }
   ],
   "source": [
    "df.head()"
   ]
  },
  {
   "cell_type": "code",
   "execution_count": 5,
   "id": "9ddc5ecd",
   "metadata": {},
   "outputs": [
    {
     "data": {
      "text/html": [
       "<div>\n",
       "<style scoped>\n",
       "    .dataframe tbody tr th:only-of-type {\n",
       "        vertical-align: middle;\n",
       "    }\n",
       "\n",
       "    .dataframe tbody tr th {\n",
       "        vertical-align: top;\n",
       "    }\n",
       "\n",
       "    .dataframe thead th {\n",
       "        text-align: right;\n",
       "    }\n",
       "</style>\n",
       "<table border=\"1\" class=\"dataframe\">\n",
       "  <thead>\n",
       "    <tr style=\"text-align: right;\">\n",
       "      <th></th>\n",
       "      <th>Cement</th>\n",
       "      <th>BFS</th>\n",
       "      <th>Fly_Ash</th>\n",
       "      <th>Water</th>\n",
       "      <th>Superplasticizer</th>\n",
       "      <th>Coarse_Aggregate</th>\n",
       "      <th>Fine_Aggregate</th>\n",
       "      <th>Age</th>\n",
       "      <th>Concrete_Strength</th>\n",
       "    </tr>\n",
       "  </thead>\n",
       "  <tbody>\n",
       "    <tr>\n",
       "      <th>1025</th>\n",
       "      <td>276.4</td>\n",
       "      <td>116.0</td>\n",
       "      <td>90.3</td>\n",
       "      <td>179.6</td>\n",
       "      <td>8.9</td>\n",
       "      <td>870.1</td>\n",
       "      <td>768.3</td>\n",
       "      <td>28</td>\n",
       "      <td>44.28</td>\n",
       "    </tr>\n",
       "    <tr>\n",
       "      <th>1026</th>\n",
       "      <td>322.2</td>\n",
       "      <td>0.0</td>\n",
       "      <td>115.6</td>\n",
       "      <td>196.0</td>\n",
       "      <td>10.4</td>\n",
       "      <td>817.9</td>\n",
       "      <td>813.4</td>\n",
       "      <td>28</td>\n",
       "      <td>31.18</td>\n",
       "    </tr>\n",
       "    <tr>\n",
       "      <th>1027</th>\n",
       "      <td>148.5</td>\n",
       "      <td>139.4</td>\n",
       "      <td>108.6</td>\n",
       "      <td>192.7</td>\n",
       "      <td>6.1</td>\n",
       "      <td>892.4</td>\n",
       "      <td>780.0</td>\n",
       "      <td>28</td>\n",
       "      <td>23.70</td>\n",
       "    </tr>\n",
       "    <tr>\n",
       "      <th>1028</th>\n",
       "      <td>159.1</td>\n",
       "      <td>186.7</td>\n",
       "      <td>0.0</td>\n",
       "      <td>175.6</td>\n",
       "      <td>11.3</td>\n",
       "      <td>989.6</td>\n",
       "      <td>788.9</td>\n",
       "      <td>28</td>\n",
       "      <td>32.77</td>\n",
       "    </tr>\n",
       "    <tr>\n",
       "      <th>1029</th>\n",
       "      <td>260.9</td>\n",
       "      <td>100.5</td>\n",
       "      <td>78.3</td>\n",
       "      <td>200.6</td>\n",
       "      <td>8.6</td>\n",
       "      <td>864.5</td>\n",
       "      <td>761.5</td>\n",
       "      <td>28</td>\n",
       "      <td>32.40</td>\n",
       "    </tr>\n",
       "  </tbody>\n",
       "</table>\n",
       "</div>"
      ],
      "text/plain": [
       "      Cement    BFS  Fly_Ash  Water  Superplasticizer  Coarse_Aggregate  \\\n",
       "1025   276.4  116.0     90.3  179.6               8.9             870.1   \n",
       "1026   322.2    0.0    115.6  196.0              10.4             817.9   \n",
       "1027   148.5  139.4    108.6  192.7               6.1             892.4   \n",
       "1028   159.1  186.7      0.0  175.6              11.3             989.6   \n",
       "1029   260.9  100.5     78.3  200.6               8.6             864.5   \n",
       "\n",
       "      Fine_Aggregate  Age  Concrete_Strength  \n",
       "1025           768.3   28              44.28  \n",
       "1026           813.4   28              31.18  \n",
       "1027           780.0   28              23.70  \n",
       "1028           788.9   28              32.77  \n",
       "1029           761.5   28              32.40  "
      ]
     },
     "execution_count": 5,
     "metadata": {},
     "output_type": "execute_result"
    }
   ],
   "source": [
    "df.tail()"
   ]
  },
  {
   "cell_type": "code",
   "execution_count": 6,
   "id": "d3756c7c",
   "metadata": {},
   "outputs": [
    {
     "name": "stdout",
     "output_type": "stream",
     "text": [
      "<class 'pandas.core.frame.DataFrame'>\n",
      "RangeIndex: 1030 entries, 0 to 1029\n",
      "Data columns (total 9 columns):\n",
      " #   Column             Non-Null Count  Dtype  \n",
      "---  ------             --------------  -----  \n",
      " 0   Cement             1030 non-null   float64\n",
      " 1   BFS                1030 non-null   float64\n",
      " 2   Fly_Ash            1030 non-null   float64\n",
      " 3   Water              1030 non-null   float64\n",
      " 4   Superplasticizer   1030 non-null   float64\n",
      " 5   Coarse_Aggregate   1030 non-null   float64\n",
      " 6   Fine_Aggregate     1030 non-null   float64\n",
      " 7   Age                1030 non-null   int64  \n",
      " 8   Concrete_Strength  1030 non-null   float64\n",
      "dtypes: float64(8), int64(1)\n",
      "memory usage: 72.5 KB\n"
     ]
    }
   ],
   "source": [
    "df.info()"
   ]
  },
  {
   "cell_type": "code",
   "execution_count": 7,
   "id": "6d57a6ab",
   "metadata": {},
   "outputs": [],
   "source": [
    "df.drop_duplicates(inplace=True)"
   ]
  },
  {
   "cell_type": "code",
   "execution_count": 8,
   "id": "6f1fa072",
   "metadata": {},
   "outputs": [
    {
     "data": {
      "text/plain": [
       "(1005, 9)"
      ]
     },
     "execution_count": 8,
     "metadata": {},
     "output_type": "execute_result"
    }
   ],
   "source": [
    "df.shape"
   ]
  },
  {
   "cell_type": "code",
   "execution_count": 9,
   "id": "41ca41b0",
   "metadata": {},
   "outputs": [],
   "source": [
    "stat = df.describe()\n",
    "stat.to_csv(\"Statistics Table.csv\")"
   ]
  },
  {
   "cell_type": "code",
   "execution_count": 10,
   "id": "0e3390d1",
   "metadata": {},
   "outputs": [
    {
     "name": "stdout",
     "output_type": "stream",
     "text": [
      "<class 'pandas.core.frame.DataFrame'>\n",
      "Int64Index: 1005 entries, 0 to 1029\n",
      "Data columns (total 9 columns):\n",
      " #   Column             Non-Null Count  Dtype  \n",
      "---  ------             --------------  -----  \n",
      " 0   Cement             1005 non-null   float64\n",
      " 1   BFS                1005 non-null   float64\n",
      " 2   Fly_Ash            1005 non-null   float64\n",
      " 3   Water              1005 non-null   float64\n",
      " 4   Superplasticizer   1005 non-null   float64\n",
      " 5   Coarse_Aggregate   1005 non-null   float64\n",
      " 6   Fine_Aggregate     1005 non-null   float64\n",
      " 7   Age                1005 non-null   int64  \n",
      " 8   Concrete_Strength  1005 non-null   float64\n",
      "dtypes: float64(8), int64(1)\n",
      "memory usage: 78.5 KB\n"
     ]
    }
   ],
   "source": [
    "df.info()"
   ]
  },
  {
   "cell_type": "code",
   "execution_count": 11,
   "id": "10d93a67-9956-4ad7-8fca-b6735022b845",
   "metadata": {},
   "outputs": [
    {
     "data": {
      "image/png": "[encoded data removed]",
      "text/plain": [
       "<Figure size 576x432 with 1 Axes>"
      ]
     },
     "metadata": {
      "needs_background": "light"
     },
     "output_type": "display_data"
    }
   ],
   "source": [
    "#plt.figure(figsize= [8,6])\n",
    "fig, ax = plt.subplots(figsize=(8,6))\n",
    "corr = df.corr()\n",
    "sns.heatmap(corr, cbar=False, annot=True)\n",
    "fig.savefig('correlation.jpg');"
   ]
  },
  {
   "cell_type": "markdown",
   "id": "38d4315f-859b-4b3e-ae70-8e197b66335e",
   "metadata": {},
   "source": [
    "### Split Data to Train and Test Set"
   ]
  },
  {
   "cell_type": "code",
   "execution_count": 12,
   "id": "49f19342",
   "metadata": {},
   "outputs": [],
   "source": [
    "# Attributes or Features are saved as X\n",
    "X = df.drop(columns=\"Concrete_Strength\")\n",
    "\n",
    "# Target labels are saved as y\n",
    "y = df[\"Concrete_Strength\"]"
   ]
  },
  {
   "cell_type": "code",
   "execution_count": 13,
   "id": "539bcbf4",
   "metadata": {},
   "outputs": [],
   "source": [
    "# Splitting the data set into train and test dataset. Train=80%, Test=20%\n",
    "X_train, X_test, y_train, y_test = train_test_split(X, y, test_size=0.2, random_state=42)"
   ]
  },
  {
   "cell_type": "code",
   "execution_count": 14,
   "id": "d8bbe16f",
   "metadata": {},
   "outputs": [
    {
     "name": "stdout",
     "output_type": "stream",
     "text": [
      "X_train shape :  (804, 8)\n",
      "X_test shape :  (201, 8)\n",
      "y_train shape :  (804,)\n",
      "y_test shape :  (201,)\n"
     ]
    }
   ],
   "source": [
    "print(\"X_train shape : \", X_train.shape)\n",
    "print(\"X_test shape : \", X_test.shape)\n",
    "print(\"y_train shape : \", y_train.shape)\n",
    "print(\"y_test shape : \",y_test.shape)"
   ]
  },
  {
   "cell_type": "markdown",
   "id": "cea4d117",
   "metadata": {},
   "source": [
    "### Model Building"
   ]
  },
  {
   "cell_type": "markdown",
   "id": "918cddbc-7a75-40f7-900b-01e266182f5f",
   "metadata": {},
   "source": [
    "### Grid Search"
   ]
  },
  {
   "cell_type": "markdown",
   "id": "dd767d8b-31e6-46ae-bdf7-04228a6f19c2",
   "metadata": {},
   "source": [
    "#### Lasso"
   ]
  },
  {
   "cell_type": "code",
   "execution_count": 15,
   "id": "0e90e55a-a35d-4530-ac76-65898cf18b17",
   "metadata": {},
   "outputs": [],
   "source": [
    "lasso =  Lasso(random_state=42)\n",
    "lasso_model = make_pipeline(\n",
    "    StandardScaler(),\n",
    "    lasso\n",
    ")"
   ]
  },
  {
   "cell_type": "code",
   "execution_count": 16,
   "id": "237effcf-edb3-440b-89b5-67e930d3b1cf",
   "metadata": {},
   "outputs": [],
   "source": [
    "#hyperparameters\n",
    "params= {\n",
    "    \"lasso__alpha\":np.arange(0.05, 1.05, 0.05),\n",
    "    \"lasso__max_iter\":np.arange(500, 1500, 100),\n",
    "    \"lasso__selection\":[\"cyclic\", \"random\"]\n",
    "}"
   ]
  },
  {
   "cell_type": "code",
   "execution_count": 17,
   "id": "55f38f78-3236-4837-84ac-61593506c456",
   "metadata": {},
   "outputs": [
    {
     "name": "stdout",
     "output_type": "stream",
     "text": [
      "Fitting 5 folds for each of 400 candidates, totalling 2000 fits\n"
     ]
    },
    {
     "data": {
      "text/plain": [
       "GridSearchCV(cv=5,\n",
       "             estimator=Pipeline(steps=[('standardscaler', StandardScaler()),\n",
       "                                       ('lasso', Lasso(random_state=42))]),\n",
       "             n_jobs=-1,\n",
       "             param_grid={'lasso__alpha': array([0.05, 0.1 , 0.15, 0.2 , 0.25, 0.3 , 0.35, 0.4 , 0.45, 0.5 , 0.55,\n",
       "       0.6 , 0.65, 0.7 , 0.75, 0.8 , 0.85, 0.9 , 0.95, 1.  ]),\n",
       "                         'lasso__max_iter': array([ 500,  600,  700,  800,  900, 1000, 1100, 1200, 1300, 1400]),\n",
       "                         'lasso__selection': ['cyclic', 'random']},\n",
       "             verbose=1)"
      ]
     },
     "execution_count": 17,
     "metadata": {},
     "output_type": "execute_result"
    }
   ],
   "source": [
    "model_lasso = GridSearchCV(lasso_model, param_grid=params, n_jobs=-1, verbose=1, cv=5)\n",
    "model_lasso.fit(X_train, y_train)"
   ]
  },
  {
   "cell_type": "code",
   "execution_count": 18,
   "id": "cedad723-638e-4526-8439-9fb7c00aec84",
   "metadata": {},
   "outputs": [
    {
     "data": {
      "text/plain": [
       "{'lasso__alpha': 0.1, 'lasso__max_iter': 500, 'lasso__selection': 'random'}"
      ]
     },
     "execution_count": 18,
     "metadata": {},
     "output_type": "execute_result"
    }
   ],
   "source": [
    "model_lasso.best_params_"
   ]
  },
  {
   "cell_type": "code",
   "execution_count": 19,
   "id": "c756cfed-d58a-4425-b305-1df55f57075f",
   "metadata": {},
   "outputs": [
    {
     "data": {
      "text/plain": [
       "Pipeline(steps=[('standardscaler', StandardScaler()),\n",
       "                ('lasso',\n",
       "                 Lasso(alpha=0.1, max_iter=500, random_state=42,\n",
       "                       selection='random'))])"
      ]
     },
     "execution_count": 19,
     "metadata": {},
     "output_type": "execute_result"
    }
   ],
   "source": [
    "model_lasso.best_estimator_"
   ]
  },
  {
   "cell_type": "code",
   "execution_count": 20,
   "id": "e0919f72-a2ab-4e07-808b-438bb0048b15",
   "metadata": {},
   "outputs": [
    {
     "data": {
      "text/plain": [
       "0.5930080096575383"
      ]
     },
     "execution_count": 20,
     "metadata": {},
     "output_type": "execute_result"
    }
   ],
   "source": [
    "model_lasso.best_score_"
   ]
  },
  {
   "cell_type": "code",
   "execution_count": 21,
   "id": "d52a03b9-641a-4ae6-a8f3-f099095ce464",
   "metadata": {},
   "outputs": [
    {
     "data": {
      "text/html": [
       "<div>\n",
       "<style scoped>\n",
       "    .dataframe tbody tr th:only-of-type {\n",
       "        vertical-align: middle;\n",
       "    }\n",
       "\n",
       "    .dataframe tbody tr th {\n",
       "        vertical-align: top;\n",
       "    }\n",
       "\n",
       "    .dataframe thead th {\n",
       "        text-align: right;\n",
       "    }\n",
       "</style>\n",
       "<table border=\"1\" class=\"dataframe\">\n",
       "  <thead>\n",
       "    <tr style=\"text-align: right;\">\n",
       "      <th></th>\n",
       "      <th>mean_fit_time</th>\n",
       "      <th>std_fit_time</th>\n",
       "      <th>mean_score_time</th>\n",
       "      <th>std_score_time</th>\n",
       "      <th>param_lasso__alpha</th>\n",
       "      <th>param_lasso__max_iter</th>\n",
       "      <th>param_lasso__selection</th>\n",
       "      <th>params</th>\n",
       "      <th>split0_test_score</th>\n",
       "      <th>split1_test_score</th>\n",
       "      <th>split2_test_score</th>\n",
       "      <th>split3_test_score</th>\n",
       "      <th>split4_test_score</th>\n",
       "      <th>mean_test_score</th>\n",
       "      <th>std_test_score</th>\n",
       "      <th>rank_test_score</th>\n",
       "    </tr>\n",
       "  </thead>\n",
       "  <tbody>\n",
       "    <tr>\n",
       "      <th>23</th>\n",
       "      <td>0.010194</td>\n",
       "      <td>0.001938</td>\n",
       "      <td>0.003798</td>\n",
       "      <td>3.997089e-04</td>\n",
       "      <td>0.1</td>\n",
       "      <td>600</td>\n",
       "      <td>random</td>\n",
       "      <td>{'lasso__alpha': 0.1, 'lasso__max_iter': 600, ...</td>\n",
       "      <td>0.585822</td>\n",
       "      <td>0.549062</td>\n",
       "      <td>0.652331</td>\n",
       "      <td>0.630084</td>\n",
       "      <td>0.547742</td>\n",
       "      <td>0.593008</td>\n",
       "      <td>0.042251</td>\n",
       "      <td>1</td>\n",
       "    </tr>\n",
       "    <tr>\n",
       "      <th>25</th>\n",
       "      <td>0.010792</td>\n",
       "      <td>0.001467</td>\n",
       "      <td>0.003998</td>\n",
       "      <td>6.143617e-07</td>\n",
       "      <td>0.1</td>\n",
       "      <td>700</td>\n",
       "      <td>random</td>\n",
       "      <td>{'lasso__alpha': 0.1, 'lasso__max_iter': 700, ...</td>\n",
       "      <td>0.585822</td>\n",
       "      <td>0.549062</td>\n",
       "      <td>0.652331</td>\n",
       "      <td>0.630084</td>\n",
       "      <td>0.547742</td>\n",
       "      <td>0.593008</td>\n",
       "      <td>0.042251</td>\n",
       "      <td>1</td>\n",
       "    </tr>\n",
       "    <tr>\n",
       "      <th>39</th>\n",
       "      <td>0.009395</td>\n",
       "      <td>0.000490</td>\n",
       "      <td>0.003999</td>\n",
       "      <td>3.179471e-06</td>\n",
       "      <td>0.1</td>\n",
       "      <td>1400</td>\n",
       "      <td>random</td>\n",
       "      <td>{'lasso__alpha': 0.1, 'lasso__max_iter': 1400,...</td>\n",
       "      <td>0.585822</td>\n",
       "      <td>0.549062</td>\n",
       "      <td>0.652331</td>\n",
       "      <td>0.630084</td>\n",
       "      <td>0.547742</td>\n",
       "      <td>0.593008</td>\n",
       "      <td>0.042251</td>\n",
       "      <td>1</td>\n",
       "    </tr>\n",
       "    <tr>\n",
       "      <th>37</th>\n",
       "      <td>0.010042</td>\n",
       "      <td>0.001054</td>\n",
       "      <td>0.003998</td>\n",
       "      <td>9.464947e-07</td>\n",
       "      <td>0.1</td>\n",
       "      <td>1300</td>\n",
       "      <td>random</td>\n",
       "      <td>{'lasso__alpha': 0.1, 'lasso__max_iter': 1300,...</td>\n",
       "      <td>0.585822</td>\n",
       "      <td>0.549062</td>\n",
       "      <td>0.652331</td>\n",
       "      <td>0.630084</td>\n",
       "      <td>0.547742</td>\n",
       "      <td>0.593008</td>\n",
       "      <td>0.042251</td>\n",
       "      <td>1</td>\n",
       "    </tr>\n",
       "    <tr>\n",
       "      <th>27</th>\n",
       "      <td>0.009593</td>\n",
       "      <td>0.000489</td>\n",
       "      <td>0.003398</td>\n",
       "      <td>4.898822e-04</td>\n",
       "      <td>0.1</td>\n",
       "      <td>800</td>\n",
       "      <td>random</td>\n",
       "      <td>{'lasso__alpha': 0.1, 'lasso__max_iter': 800, ...</td>\n",
       "      <td>0.585822</td>\n",
       "      <td>0.549062</td>\n",
       "      <td>0.652331</td>\n",
       "      <td>0.630084</td>\n",
       "      <td>0.547742</td>\n",
       "      <td>0.593008</td>\n",
       "      <td>0.042251</td>\n",
       "      <td>1</td>\n",
       "    </tr>\n",
       "  </tbody>\n",
       "</table>\n",
       "</div>"
      ],
      "text/plain": [
       "    mean_fit_time  std_fit_time  mean_score_time  std_score_time  \\\n",
       "23       0.010194      0.001938         0.003798    3.997089e-04   \n",
       "25       0.010792      0.001467         0.003998    6.143617e-07   \n",
       "39       0.009395      0.000490         0.003999    3.179471e-06   \n",
       "37       0.010042      0.001054         0.003998    9.464947e-07   \n",
       "27       0.009593      0.000489         0.003398    4.898822e-04   \n",
       "\n",
       "   param_lasso__alpha param_lasso__max_iter param_lasso__selection  \\\n",
       "23                0.1                   600                 random   \n",
       "25                0.1                   700                 random   \n",
       "39                0.1                  1400                 random   \n",
       "37                0.1                  1300                 random   \n",
       "27                0.1                   800                 random   \n",
       "\n",
       "                                               params  split0_test_score  \\\n",
       "23  {'lasso__alpha': 0.1, 'lasso__max_iter': 600, ...           0.585822   \n",
       "25  {'lasso__alpha': 0.1, 'lasso__max_iter': 700, ...           0.585822   \n",
       "39  {'lasso__alpha': 0.1, 'lasso__max_iter': 1400,...           0.585822   \n",
       "37  {'lasso__alpha': 0.1, 'lasso__max_iter': 1300,...           0.585822   \n",
       "27  {'lasso__alpha': 0.1, 'lasso__max_iter': 800, ...           0.585822   \n",
       "\n",
       "    split1_test_score  split2_test_score  split3_test_score  \\\n",
       "23           0.549062           0.652331           0.630084   \n",
       "25           0.549062           0.652331           0.630084   \n",
       "39           0.549062           0.652331           0.630084   \n",
       "37           0.549062           0.652331           0.630084   \n",
       "27           0.549062           0.652331           0.630084   \n",
       "\n",
       "    split4_test_score  mean_test_score  std_test_score  rank_test_score  \n",
       "23           0.547742         0.593008        0.042251                1  \n",
       "25           0.547742         0.593008        0.042251                1  \n",
       "39           0.547742         0.593008        0.042251                1  \n",
       "37           0.547742         0.593008        0.042251                1  \n",
       "27           0.547742         0.593008        0.042251                1  "
      ]
     },
     "execution_count": 21,
     "metadata": {},
     "output_type": "execute_result"
    }
   ],
   "source": [
    "pd.DataFrame(model_lasso.cv_results_).sort_values(\"rank_test_score\").head()"
   ]
  },
  {
   "cell_type": "code",
   "execution_count": 22,
   "id": "3ad55b4f-c5b3-499c-813c-c5795479cc91",
   "metadata": {},
   "outputs": [],
   "source": [
    "pred = model_lasso.predict(X_test)"
   ]
  },
  {
   "cell_type": "code",
   "execution_count": 23,
   "id": "4a3ba242-44c7-49d0-8784-81df3130876b",
   "metadata": {},
   "outputs": [
    {
     "data": {
      "text/plain": [
       "0.5773020810998549"
      ]
     },
     "execution_count": 23,
     "metadata": {},
     "output_type": "execute_result"
    }
   ],
   "source": [
    "rsquared = r2_score(y_test, pred)\n",
    "rsquared"
   ]
  },
  {
   "cell_type": "code",
   "execution_count": null,
   "id": "3e160afe-18d7-4a65-8fc7-8f6359a7161a",
   "metadata": {},
   "outputs": [],
   "source": []
  },
  {
   "cell_type": "markdown",
   "id": "0f95bff2-1e5c-4d3b-b2b3-cd80a8162792",
   "metadata": {},
   "source": [
    "#### Ridge"
   ]
  },
  {
   "cell_type": "code",
   "execution_count": 24,
   "id": "b217679e-45a3-4cbb-a53e-f9a9ca06ba6a",
   "metadata": {},
   "outputs": [],
   "source": [
    "ridge =  Ridge(random_state=42)\n",
    "ridge_model = make_pipeline(\n",
    "    StandardScaler(),\n",
    "    ridge\n",
    ")\n",
    "#hyperparameters\n",
    "params= {\n",
    "    \"ridge__alpha\":np.arange(0.05, 1.05, 0.05)\n",
    "}"
   ]
  },
  {
   "cell_type": "code",
   "execution_count": 25,
   "id": "22d7be7a-f34d-4cd9-b48c-7a677a64cf0e",
   "metadata": {},
   "outputs": [
    {
     "name": "stdout",
     "output_type": "stream",
     "text": [
      "Fitting 5 folds for each of 20 candidates, totalling 100 fits\n"
     ]
    },
    {
     "data": {
      "text/plain": [
       "GridSearchCV(cv=5,\n",
       "             estimator=Pipeline(steps=[('standardscaler', StandardScaler()),\n",
       "                                       ('ridge', Ridge(random_state=42))]),\n",
       "             n_jobs=-1,\n",
       "             param_grid={'ridge__alpha': array([0.05, 0.1 , 0.15, 0.2 , 0.25, 0.3 , 0.35, 0.4 , 0.45, 0.5 , 0.55,\n",
       "       0.6 , 0.65, 0.7 , 0.75, 0.8 , 0.85, 0.9 , 0.95, 1.  ])},\n",
       "             verbose=1)"
      ]
     },
     "execution_count": 25,
     "metadata": {},
     "output_type": "execute_result"
    }
   ],
   "source": [
    "model_ridge = GridSearchCV(ridge_model, param_grid=params, n_jobs=-1, verbose=1, cv=5)\n",
    "model_ridge.fit(X_train, y_train)"
   ]
  },
  {
   "cell_type": "code",
   "execution_count": 26,
   "id": "50db7957-71bd-49b4-a230-9e038c60ddd8",
   "metadata": {},
   "outputs": [
    {
     "data": {
      "text/plain": [
       "Pipeline(steps=[('standardscaler', StandardScaler()),\n",
       "                ('ridge', Ridge(random_state=42))])"
      ]
     },
     "execution_count": 26,
     "metadata": {},
     "output_type": "execute_result"
    }
   ],
   "source": [
    "model_ridge.best_estimator_"
   ]
  },
  {
   "cell_type": "code",
   "execution_count": 27,
   "id": "f5f94871-6296-4c60-b592-c8af6bd4ff42",
   "metadata": {},
   "outputs": [
    {
     "data": {
      "text/plain": [
       "{'ridge__alpha': 1.0}"
      ]
     },
     "execution_count": 27,
     "metadata": {},
     "output_type": "execute_result"
    }
   ],
   "source": [
    "model_ridge.best_params_"
   ]
  },
  {
   "cell_type": "code",
   "execution_count": 28,
   "id": "067b8532-06be-4cc7-9416-01901757e95b",
   "metadata": {},
   "outputs": [
    {
     "data": {
      "text/plain": [
       "0.5935198027647656"
      ]
     },
     "execution_count": 28,
     "metadata": {},
     "output_type": "execute_result"
    }
   ],
   "source": [
    "model_ridge.best_score_"
   ]
  },
  {
   "cell_type": "code",
   "execution_count": 29,
   "id": "dfbb8b2d-913b-4324-b05e-af79b8528ed7",
   "metadata": {},
   "outputs": [
    {
     "data": {
      "text/html": [
       "<div>\n",
       "<style scoped>\n",
       "    .dataframe tbody tr th:only-of-type {\n",
       "        vertical-align: middle;\n",
       "    }\n",
       "\n",
       "    .dataframe tbody tr th {\n",
       "        vertical-align: top;\n",
       "    }\n",
       "\n",
       "    .dataframe thead th {\n",
       "        text-align: right;\n",
       "    }\n",
       "</style>\n",
       "<table border=\"1\" class=\"dataframe\">\n",
       "  <thead>\n",
       "    <tr style=\"text-align: right;\">\n",
       "      <th></th>\n",
       "      <th>mean_fit_time</th>\n",
       "      <th>std_fit_time</th>\n",
       "      <th>mean_score_time</th>\n",
       "      <th>std_score_time</th>\n",
       "      <th>param_ridge__alpha</th>\n",
       "      <th>params</th>\n",
       "      <th>split0_test_score</th>\n",
       "      <th>split1_test_score</th>\n",
       "      <th>split2_test_score</th>\n",
       "      <th>split3_test_score</th>\n",
       "      <th>split4_test_score</th>\n",
       "      <th>mean_test_score</th>\n",
       "      <th>std_test_score</th>\n",
       "      <th>rank_test_score</th>\n",
       "    </tr>\n",
       "  </thead>\n",
       "  <tbody>\n",
       "    <tr>\n",
       "      <th>19</th>\n",
       "      <td>0.009394</td>\n",
       "      <td>1.355503e-03</td>\n",
       "      <td>0.003398</td>\n",
       "      <td>0.000490</td>\n",
       "      <td>1.0</td>\n",
       "      <td>{'ridge__alpha': 1.0}</td>\n",
       "      <td>0.583458</td>\n",
       "      <td>0.549068</td>\n",
       "      <td>0.657139</td>\n",
       "      <td>0.631614</td>\n",
       "      <td>0.546320</td>\n",
       "      <td>0.593520</td>\n",
       "      <td>0.044280</td>\n",
       "      <td>1</td>\n",
       "    </tr>\n",
       "    <tr>\n",
       "      <th>18</th>\n",
       "      <td>0.009594</td>\n",
       "      <td>1.199174e-03</td>\n",
       "      <td>0.004997</td>\n",
       "      <td>0.002096</td>\n",
       "      <td>0.95</td>\n",
       "      <td>{'ridge__alpha': 0.9500000000000001}</td>\n",
       "      <td>0.583438</td>\n",
       "      <td>0.549070</td>\n",
       "      <td>0.657181</td>\n",
       "      <td>0.631614</td>\n",
       "      <td>0.546289</td>\n",
       "      <td>0.593518</td>\n",
       "      <td>0.044299</td>\n",
       "      <td>2</td>\n",
       "    </tr>\n",
       "    <tr>\n",
       "      <th>17</th>\n",
       "      <td>0.008395</td>\n",
       "      <td>4.895900e-04</td>\n",
       "      <td>0.004398</td>\n",
       "      <td>0.001355</td>\n",
       "      <td>0.9</td>\n",
       "      <td>{'ridge__alpha': 0.9000000000000001}</td>\n",
       "      <td>0.583417</td>\n",
       "      <td>0.549072</td>\n",
       "      <td>0.657223</td>\n",
       "      <td>0.631614</td>\n",
       "      <td>0.546259</td>\n",
       "      <td>0.593517</td>\n",
       "      <td>0.044318</td>\n",
       "      <td>3</td>\n",
       "    </tr>\n",
       "    <tr>\n",
       "      <th>16</th>\n",
       "      <td>0.008595</td>\n",
       "      <td>8.002997e-04</td>\n",
       "      <td>0.003799</td>\n",
       "      <td>0.000396</td>\n",
       "      <td>0.85</td>\n",
       "      <td>{'ridge__alpha': 0.8500000000000001}</td>\n",
       "      <td>0.583396</td>\n",
       "      <td>0.549074</td>\n",
       "      <td>0.657265</td>\n",
       "      <td>0.631614</td>\n",
       "      <td>0.546228</td>\n",
       "      <td>0.593515</td>\n",
       "      <td>0.044337</td>\n",
       "      <td>4</td>\n",
       "    </tr>\n",
       "    <tr>\n",
       "      <th>15</th>\n",
       "      <td>0.007995</td>\n",
       "      <td>2.780415e-07</td>\n",
       "      <td>0.003799</td>\n",
       "      <td>0.000400</td>\n",
       "      <td>0.8</td>\n",
       "      <td>{'ridge__alpha': 0.8}</td>\n",
       "      <td>0.583375</td>\n",
       "      <td>0.549076</td>\n",
       "      <td>0.657306</td>\n",
       "      <td>0.631613</td>\n",
       "      <td>0.546196</td>\n",
       "      <td>0.593513</td>\n",
       "      <td>0.044357</td>\n",
       "      <td>5</td>\n",
       "    </tr>\n",
       "  </tbody>\n",
       "</table>\n",
       "</div>"
      ],
      "text/plain": [
       "    mean_fit_time  std_fit_time  mean_score_time  std_score_time  \\\n",
       "19       0.009394  1.355503e-03         0.003398        0.000490   \n",
       "18       0.009594  1.199174e-03         0.004997        0.002096   \n",
       "17       0.008395  4.895900e-04         0.004398        0.001355   \n",
       "16       0.008595  8.002997e-04         0.003799        0.000396   \n",
       "15       0.007995  2.780415e-07         0.003799        0.000400   \n",
       "\n",
       "   param_ridge__alpha                                params  \\\n",
       "19                1.0                 {'ridge__alpha': 1.0}   \n",
       "18               0.95  {'ridge__alpha': 0.9500000000000001}   \n",
       "17                0.9  {'ridge__alpha': 0.9000000000000001}   \n",
       "16               0.85  {'ridge__alpha': 0.8500000000000001}   \n",
       "15                0.8                 {'ridge__alpha': 0.8}   \n",
       "\n",
       "    split0_test_score  split1_test_score  split2_test_score  \\\n",
       "19           0.583458           0.549068           0.657139   \n",
       "18           0.583438           0.549070           0.657181   \n",
       "17           0.583417           0.549072           0.657223   \n",
       "16           0.583396           0.549074           0.657265   \n",
       "15           0.583375           0.549076           0.657306   \n",
       "\n",
       "    split3_test_score  split4_test_score  mean_test_score  std_test_score  \\\n",
       "19           0.631614           0.546320         0.593520        0.044280   \n",
       "18           0.631614           0.546289         0.593518        0.044299   \n",
       "17           0.631614           0.546259         0.593517        0.044318   \n",
       "16           0.631614           0.546228         0.593515        0.044337   \n",
       "15           0.631613           0.546196         0.593513        0.044357   \n",
       "\n",
       "    rank_test_score  \n",
       "19                1  \n",
       "18                2  \n",
       "17                3  \n",
       "16                4  \n",
       "15                5  "
      ]
     },
     "execution_count": 29,
     "metadata": {},
     "output_type": "execute_result"
    }
   ],
   "source": [
    "pd.DataFrame(model_ridge.cv_results_).sort_values(\"rank_test_score\").head()"
   ]
  },
  {
   "cell_type": "markdown",
   "id": "dccf459d-45a4-4a20-b21a-5c7feaf7dbaf",
   "metadata": {},
   "source": [
    "#### Decision Tree"
   ]
  },
  {
   "cell_type": "code",
   "execution_count": 30,
   "id": "502a8d24-2cba-4ebc-b72b-b825a60e23f8",
   "metadata": {},
   "outputs": [],
   "source": [
    "dt =  DecisionTreeRegressor(random_state=42)\n",
    "dt_model = make_pipeline(\n",
    "    StandardScaler(),\n",
    "    dt\n",
    ")\n",
    "#hyperparameters\n",
    "params= {\n",
    "    \"decisiontreeregressor__max_depth\":np.arange(1, 100, 5),\n",
    "    \"decisiontreeregressor__splitter\":[\"best\", \"random\"]\n",
    "}"
   ]
  },
  {
   "cell_type": "code",
   "execution_count": 31,
   "id": "74153c1e-0b6c-4027-a7fb-ae76f4d12349",
   "metadata": {},
   "outputs": [
    {
     "name": "stdout",
     "output_type": "stream",
     "text": [
      "Fitting 5 folds for each of 40 candidates, totalling 200 fits\n"
     ]
    },
    {
     "data": {
      "text/plain": [
       "GridSearchCV(cv=5,\n",
       "             estimator=Pipeline(steps=[('standardscaler', StandardScaler()),\n",
       "                                       ('decisiontreeregressor',\n",
       "                                        DecisionTreeRegressor(random_state=42))]),\n",
       "             n_jobs=-1,\n",
       "             param_grid={'decisiontreeregressor__max_depth': array([ 1,  6, 11, 16, 21, 26, 31, 36, 41, 46, 51, 56, 61, 66, 71, 76, 81,\n",
       "       86, 91, 96]),\n",
       "                         'decisiontreeregressor__splitter': ['best', 'random']},\n",
       "             verbose=1)"
      ]
     },
     "execution_count": 31,
     "metadata": {},
     "output_type": "execute_result"
    }
   ],
   "source": [
    "model_dt = GridSearchCV(dt_model, param_grid=params, n_jobs=-1, verbose=1, cv=5)\n",
    "model_dt.fit(X_train, y_train)"
   ]
  },
  {
   "cell_type": "code",
   "execution_count": 32,
   "id": "998a1501-21b1-4dce-b7c5-96aca0270cec",
   "metadata": {},
   "outputs": [
    {
     "data": {
      "text/plain": [
       "Pipeline(steps=[('standardscaler', StandardScaler()),\n",
       "                ('decisiontreeregressor',\n",
       "                 DecisionTreeRegressor(max_depth=16, random_state=42))])"
      ]
     },
     "execution_count": 32,
     "metadata": {},
     "output_type": "execute_result"
    }
   ],
   "source": [
    "model_dt.best_estimator_"
   ]
  },
  {
   "cell_type": "code",
   "execution_count": 33,
   "id": "ba25f7af-db8f-4455-b9c6-50e55789b431",
   "metadata": {},
   "outputs": [
    {
     "data": {
      "text/plain": [
       "0.7988896083430337"
      ]
     },
     "execution_count": 33,
     "metadata": {},
     "output_type": "execute_result"
    }
   ],
   "source": [
    "model_dt.best_score_"
   ]
  },
  {
   "cell_type": "code",
   "execution_count": 34,
   "id": "e92653c6-090c-4ce6-b440-768a3aba3d02",
   "metadata": {},
   "outputs": [
    {
     "data": {
      "text/html": [
       "<div>\n",
       "<style scoped>\n",
       "    .dataframe tbody tr th:only-of-type {\n",
       "        vertical-align: middle;\n",
       "    }\n",
       "\n",
       "    .dataframe tbody tr th {\n",
       "        vertical-align: top;\n",
       "    }\n",
       "\n",
       "    .dataframe thead th {\n",
       "        text-align: right;\n",
       "    }\n",
       "</style>\n",
       "<table border=\"1\" class=\"dataframe\">\n",
       "  <thead>\n",
       "    <tr style=\"text-align: right;\">\n",
       "      <th></th>\n",
       "      <th>mean_fit_time</th>\n",
       "      <th>std_fit_time</th>\n",
       "      <th>mean_score_time</th>\n",
       "      <th>std_score_time</th>\n",
       "      <th>param_decisiontreeregressor__max_depth</th>\n",
       "      <th>param_decisiontreeregressor__splitter</th>\n",
       "      <th>params</th>\n",
       "      <th>split0_test_score</th>\n",
       "      <th>split1_test_score</th>\n",
       "      <th>split2_test_score</th>\n",
       "      <th>split3_test_score</th>\n",
       "      <th>split4_test_score</th>\n",
       "      <th>mean_test_score</th>\n",
       "      <th>std_test_score</th>\n",
       "      <th>rank_test_score</th>\n",
       "    </tr>\n",
       "  </thead>\n",
       "  <tbody>\n",
       "    <tr>\n",
       "      <th>6</th>\n",
       "      <td>0.014791</td>\n",
       "      <td>0.001470</td>\n",
       "      <td>0.004197</td>\n",
       "      <td>0.000400</td>\n",
       "      <td>16</td>\n",
       "      <td>best</td>\n",
       "      <td>{'decisiontreeregressor__max_depth': 16, 'deci...</td>\n",
       "      <td>0.805619</td>\n",
       "      <td>0.800520</td>\n",
       "      <td>0.836403</td>\n",
       "      <td>0.740261</td>\n",
       "      <td>0.811644</td>\n",
       "      <td>0.798890</td>\n",
       "      <td>0.031797</td>\n",
       "      <td>1</td>\n",
       "    </tr>\n",
       "    <tr>\n",
       "      <th>12</th>\n",
       "      <td>0.020987</td>\n",
       "      <td>0.009029</td>\n",
       "      <td>0.010995</td>\n",
       "      <td>0.011361</td>\n",
       "      <td>31</td>\n",
       "      <td>best</td>\n",
       "      <td>{'decisiontreeregressor__max_depth': 31, 'deci...</td>\n",
       "      <td>0.804026</td>\n",
       "      <td>0.763804</td>\n",
       "      <td>0.822382</td>\n",
       "      <td>0.746891</td>\n",
       "      <td>0.819002</td>\n",
       "      <td>0.791221</td>\n",
       "      <td>0.030409</td>\n",
       "      <td>2</td>\n",
       "    </tr>\n",
       "    <tr>\n",
       "      <th>22</th>\n",
       "      <td>0.018189</td>\n",
       "      <td>0.007462</td>\n",
       "      <td>0.003798</td>\n",
       "      <td>0.000748</td>\n",
       "      <td>56</td>\n",
       "      <td>best</td>\n",
       "      <td>{'decisiontreeregressor__max_depth': 56, 'deci...</td>\n",
       "      <td>0.804026</td>\n",
       "      <td>0.763804</td>\n",
       "      <td>0.822382</td>\n",
       "      <td>0.746891</td>\n",
       "      <td>0.819002</td>\n",
       "      <td>0.791221</td>\n",
       "      <td>0.030409</td>\n",
       "      <td>2</td>\n",
       "    </tr>\n",
       "    <tr>\n",
       "      <th>28</th>\n",
       "      <td>0.029583</td>\n",
       "      <td>0.017062</td>\n",
       "      <td>0.004198</td>\n",
       "      <td>0.000748</td>\n",
       "      <td>71</td>\n",
       "      <td>best</td>\n",
       "      <td>{'decisiontreeregressor__max_depth': 71, 'deci...</td>\n",
       "      <td>0.804026</td>\n",
       "      <td>0.763804</td>\n",
       "      <td>0.822382</td>\n",
       "      <td>0.746891</td>\n",
       "      <td>0.819002</td>\n",
       "      <td>0.791221</td>\n",
       "      <td>0.030409</td>\n",
       "      <td>2</td>\n",
       "    </tr>\n",
       "    <tr>\n",
       "      <th>20</th>\n",
       "      <td>0.020387</td>\n",
       "      <td>0.008541</td>\n",
       "      <td>0.006397</td>\n",
       "      <td>0.004314</td>\n",
       "      <td>51</td>\n",
       "      <td>best</td>\n",
       "      <td>{'decisiontreeregressor__max_depth': 51, 'deci...</td>\n",
       "      <td>0.804026</td>\n",
       "      <td>0.763804</td>\n",
       "      <td>0.822382</td>\n",
       "      <td>0.746891</td>\n",
       "      <td>0.819002</td>\n",
       "      <td>0.791221</td>\n",
       "      <td>0.030409</td>\n",
       "      <td>2</td>\n",
       "    </tr>\n",
       "  </tbody>\n",
       "</table>\n",
       "</div>"
      ],
      "text/plain": [
       "    mean_fit_time  std_fit_time  mean_score_time  std_score_time  \\\n",
       "6        0.014791      0.001470         0.004197        0.000400   \n",
       "12       0.020987      0.009029         0.010995        0.011361   \n",
       "22       0.018189      0.007462         0.003798        0.000748   \n",
       "28       0.029583      0.017062         0.004198        0.000748   \n",
       "20       0.020387      0.008541         0.006397        0.004314   \n",
       "\n",
       "   param_decisiontreeregressor__max_depth  \\\n",
       "6                                      16   \n",
       "12                                     31   \n",
       "22                                     56   \n",
       "28                                     71   \n",
       "20                                     51   \n",
       "\n",
       "   param_decisiontreeregressor__splitter  \\\n",
       "6                                   best   \n",
       "12                                  best   \n",
       "22                                  best   \n",
       "28                                  best   \n",
       "20                                  best   \n",
       "\n",
       "                                               params  split0_test_score  \\\n",
       "6   {'decisiontreeregressor__max_depth': 16, 'deci...           0.805619   \n",
       "12  {'decisiontreeregressor__max_depth': 31, 'deci...           0.804026   \n",
       "22  {'decisiontreeregressor__max_depth': 56, 'deci...           0.804026   \n",
       "28  {'decisiontreeregressor__max_depth': 71, 'deci...           0.804026   \n",
       "20  {'decisiontreeregressor__max_depth': 51, 'deci...           0.804026   \n",
       "\n",
       "    split1_test_score  split2_test_score  split3_test_score  \\\n",
       "6            0.800520           0.836403           0.740261   \n",
       "12           0.763804           0.822382           0.746891   \n",
       "22           0.763804           0.822382           0.746891   \n",
       "28           0.763804           0.822382           0.746891   \n",
       "20           0.763804           0.822382           0.746891   \n",
       "\n",
       "    split4_test_score  mean_test_score  std_test_score  rank_test_score  \n",
       "6            0.811644         0.798890        0.031797                1  \n",
       "12           0.819002         0.791221        0.030409                2  \n",
       "22           0.819002         0.791221        0.030409                2  \n",
       "28           0.819002         0.791221        0.030409                2  \n",
       "20           0.819002         0.791221        0.030409                2  "
      ]
     },
     "execution_count": 34,
     "metadata": {},
     "output_type": "execute_result"
    }
   ],
   "source": [
    "pd.DataFrame(model_dt.cv_results_).sort_values(\"rank_test_score\").head()"
   ]
  },
  {
   "cell_type": "code",
   "execution_count": null,
   "id": "6dc820e8-84be-496b-90a7-ff1d8b34d1e4",
   "metadata": {},
   "outputs": [],
   "source": []
  },
  {
   "cell_type": "markdown",
   "id": "7b6f9474-4f3a-4982-9456-263a0dc3eeed",
   "metadata": {},
   "source": [
    "#### Random Forest"
   ]
  },
  {
   "cell_type": "code",
   "execution_count": 35,
   "id": "6759a5f2-9e06-436d-869d-53546b3c6d3d",
   "metadata": {},
   "outputs": [],
   "source": [
    "rf =  RandomForestRegressor(random_state=42)\n",
    "rf_model = make_pipeline(\n",
    "    StandardScaler(),\n",
    "    rf\n",
    ")\n",
    "#hyperparameters\n",
    "params= {\n",
    "    \"randomforestregressor__max_depth\":np.arange(10, 100, 10),\n",
    "    \"randomforestregressor__n_estimators\":np.arange(50, 500, 50)\n",
    "}"
   ]
  },
  {
   "cell_type": "code",
   "execution_count": 36,
   "id": "688426d2-948e-4fcf-b8ac-425f9178124e",
   "metadata": {},
   "outputs": [
    {
     "name": "stdout",
     "output_type": "stream",
     "text": [
      "Fitting 5 folds for each of 81 candidates, totalling 405 fits\n"
     ]
    },
    {
     "data": {
      "text/plain": [
       "GridSearchCV(cv=5,\n",
       "             estimator=Pipeline(steps=[('standardscaler', StandardScaler()),\n",
       "                                       ('randomforestregressor',\n",
       "                                        RandomForestRegressor(random_state=42))]),\n",
       "             n_jobs=-1,\n",
       "             param_grid={'randomforestregressor__max_depth': array([10, 20, 30, 40, 50, 60, 70, 80, 90]),\n",
       "                         'randomforestregressor__n_estimators': array([ 50, 100, 150, 200, 250, 300, 350, 400, 450])},\n",
       "             verbose=1)"
      ]
     },
     "execution_count": 36,
     "metadata": {},
     "output_type": "execute_result"
    }
   ],
   "source": [
    "model_rf = GridSearchCV(rf_model, param_grid=params, n_jobs=-1, verbose=1, cv=5)\n",
    "model_rf.fit(X_train, y_train)"
   ]
  },
  {
   "cell_type": "code",
   "execution_count": 37,
   "id": "5b667a4e-032b-4afd-bfbb-45b142d6076e",
   "metadata": {},
   "outputs": [
    {
     "data": {
      "text/plain": [
       "Pipeline(steps=[('standardscaler', StandardScaler()),\n",
       "                ('randomforestregressor',\n",
       "                 RandomForestRegressor(max_depth=20, n_estimators=450,\n",
       "                                       random_state=42))])"
      ]
     },
     "execution_count": 37,
     "metadata": {},
     "output_type": "execute_result"
    }
   ],
   "source": [
    "model_rf.best_estimator_"
   ]
  },
  {
   "cell_type": "code",
   "execution_count": 38,
   "id": "6951a3f0-566b-47dc-af37-e51036f9e9ef",
   "metadata": {},
   "outputs": [
    {
     "data": {
      "text/plain": [
       "0.8879195249733101"
      ]
     },
     "execution_count": 38,
     "metadata": {},
     "output_type": "execute_result"
    }
   ],
   "source": [
    "model_rf.best_score_"
   ]
  },
  {
   "cell_type": "code",
   "execution_count": 39,
   "id": "78bceaa1-a352-4e5a-bf99-2ce73fbf46a4",
   "metadata": {},
   "outputs": [
    {
     "data": {
      "text/html": [
       "<div>\n",
       "<style scoped>\n",
       "    .dataframe tbody tr th:only-of-type {\n",
       "        vertical-align: middle;\n",
       "    }\n",
       "\n",
       "    .dataframe tbody tr th {\n",
       "        vertical-align: top;\n",
       "    }\n",
       "\n",
       "    .dataframe thead th {\n",
       "        text-align: right;\n",
       "    }\n",
       "</style>\n",
       "<table border=\"1\" class=\"dataframe\">\n",
       "  <thead>\n",
       "    <tr style=\"text-align: right;\">\n",
       "      <th></th>\n",
       "      <th>mean_fit_time</th>\n",
       "      <th>std_fit_time</th>\n",
       "      <th>mean_score_time</th>\n",
       "      <th>std_score_time</th>\n",
       "      <th>param_randomforestregressor__max_depth</th>\n",
       "      <th>param_randomforestregressor__n_estimators</th>\n",
       "      <th>params</th>\n",
       "      <th>split0_test_score</th>\n",
       "      <th>split1_test_score</th>\n",
       "      <th>split2_test_score</th>\n",
       "      <th>split3_test_score</th>\n",
       "      <th>split4_test_score</th>\n",
       "      <th>mean_test_score</th>\n",
       "      <th>std_test_score</th>\n",
       "      <th>rank_test_score</th>\n",
       "    </tr>\n",
       "  </thead>\n",
       "  <tbody>\n",
       "    <tr>\n",
       "      <th>17</th>\n",
       "      <td>3.035942</td>\n",
       "      <td>0.046845</td>\n",
       "      <td>0.126528</td>\n",
       "      <td>0.038824</td>\n",
       "      <td>20</td>\n",
       "      <td>450</td>\n",
       "      <td>{'randomforestregressor__max_depth': 20, 'rand...</td>\n",
       "      <td>0.886971</td>\n",
       "      <td>0.897656</td>\n",
       "      <td>0.895698</td>\n",
       "      <td>0.880370</td>\n",
       "      <td>0.878903</td>\n",
       "      <td>0.887920</td>\n",
       "      <td>0.007675</td>\n",
       "      <td>1</td>\n",
       "    </tr>\n",
       "    <tr>\n",
       "      <th>16</th>\n",
       "      <td>2.761790</td>\n",
       "      <td>0.033779</td>\n",
       "      <td>0.094145</td>\n",
       "      <td>0.005703</td>\n",
       "      <td>20</td>\n",
       "      <td>400</td>\n",
       "      <td>{'randomforestregressor__max_depth': 20, 'rand...</td>\n",
       "      <td>0.886531</td>\n",
       "      <td>0.897799</td>\n",
       "      <td>0.896089</td>\n",
       "      <td>0.880111</td>\n",
       "      <td>0.879020</td>\n",
       "      <td>0.887910</td>\n",
       "      <td>0.007829</td>\n",
       "      <td>2</td>\n",
       "    </tr>\n",
       "    <tr>\n",
       "      <th>80</th>\n",
       "      <td>2.897107</td>\n",
       "      <td>0.053764</td>\n",
       "      <td>0.099431</td>\n",
       "      <td>0.018495</td>\n",
       "      <td>90</td>\n",
       "      <td>450</td>\n",
       "      <td>{'randomforestregressor__max_depth': 90, 'rand...</td>\n",
       "      <td>0.887144</td>\n",
       "      <td>0.897630</td>\n",
       "      <td>0.895576</td>\n",
       "      <td>0.880401</td>\n",
       "      <td>0.878785</td>\n",
       "      <td>0.887907</td>\n",
       "      <td>0.007662</td>\n",
       "      <td>3</td>\n",
       "    </tr>\n",
       "    <tr>\n",
       "      <th>44</th>\n",
       "      <td>3.036751</td>\n",
       "      <td>0.117213</td>\n",
       "      <td>0.111977</td>\n",
       "      <td>0.004104</td>\n",
       "      <td>50</td>\n",
       "      <td>450</td>\n",
       "      <td>{'randomforestregressor__max_depth': 50, 'rand...</td>\n",
       "      <td>0.887144</td>\n",
       "      <td>0.897630</td>\n",
       "      <td>0.895576</td>\n",
       "      <td>0.880401</td>\n",
       "      <td>0.878785</td>\n",
       "      <td>0.887907</td>\n",
       "      <td>0.007662</td>\n",
       "      <td>3</td>\n",
       "    </tr>\n",
       "    <tr>\n",
       "      <th>35</th>\n",
       "      <td>3.319468</td>\n",
       "      <td>0.255719</td>\n",
       "      <td>0.103742</td>\n",
       "      <td>0.006046</td>\n",
       "      <td>40</td>\n",
       "      <td>450</td>\n",
       "      <td>{'randomforestregressor__max_depth': 40, 'rand...</td>\n",
       "      <td>0.887144</td>\n",
       "      <td>0.897630</td>\n",
       "      <td>0.895576</td>\n",
       "      <td>0.880401</td>\n",
       "      <td>0.878785</td>\n",
       "      <td>0.887907</td>\n",
       "      <td>0.007662</td>\n",
       "      <td>3</td>\n",
       "    </tr>\n",
       "  </tbody>\n",
       "</table>\n",
       "</div>"
      ],
      "text/plain": [
       "    mean_fit_time  std_fit_time  mean_score_time  std_score_time  \\\n",
       "17       3.035942      0.046845         0.126528        0.038824   \n",
       "16       2.761790      0.033779         0.094145        0.005703   \n",
       "80       2.897107      0.053764         0.099431        0.018495   \n",
       "44       3.036751      0.117213         0.111977        0.004104   \n",
       "35       3.319468      0.255719         0.103742        0.006046   \n",
       "\n",
       "   param_randomforestregressor__max_depth  \\\n",
       "17                                     20   \n",
       "16                                     20   \n",
       "80                                     90   \n",
       "44                                     50   \n",
       "35                                     40   \n",
       "\n",
       "   param_randomforestregressor__n_estimators  \\\n",
       "17                                       450   \n",
       "16                                       400   \n",
       "80                                       450   \n",
       "44                                       450   \n",
       "35                                       450   \n",
       "\n",
       "                                               params  split0_test_score  \\\n",
       "17  {'randomforestregressor__max_depth': 20, 'rand...           0.886971   \n",
       "16  {'randomforestregressor__max_depth': 20, 'rand...           0.886531   \n",
       "80  {'randomforestregressor__max_depth': 90, 'rand...           0.887144   \n",
       "44  {'randomforestregressor__max_depth': 50, 'rand...           0.887144   \n",
       "35  {'randomforestregressor__max_depth': 40, 'rand...           0.887144   \n",
       "\n",
       "    split1_test_score  split2_test_score  split3_test_score  \\\n",
       "17           0.897656           0.895698           0.880370   \n",
       "16           0.897799           0.896089           0.880111   \n",
       "80           0.897630           0.895576           0.880401   \n",
       "44           0.897630           0.895576           0.880401   \n",
       "35           0.897630           0.895576           0.880401   \n",
       "\n",
       "    split4_test_score  mean_test_score  std_test_score  rank_test_score  \n",
       "17           0.878903         0.887920        0.007675                1  \n",
       "16           0.879020         0.887910        0.007829                2  \n",
       "80           0.878785         0.887907        0.007662                3  \n",
       "44           0.878785         0.887907        0.007662                3  \n",
       "35           0.878785         0.887907        0.007662                3  "
      ]
     },
     "execution_count": 39,
     "metadata": {},
     "output_type": "execute_result"
    }
   ],
   "source": [
    "pd.DataFrame(model_rf.cv_results_).sort_values(\"rank_test_score\").head()"
   ]
  },
  {
   "cell_type": "code",
   "execution_count": null,
   "id": "649688d3-9634-405b-9048-7b78230423ea",
   "metadata": {},
   "outputs": [],
   "source": []
  },
  {
   "cell_type": "markdown",
   "id": "3d9783ed-6719-424f-bd76-f62781335ea9",
   "metadata": {},
   "source": [
    "#### Gradient Boosting"
   ]
  },
  {
   "cell_type": "code",
   "execution_count": 40,
   "id": "2e782803-d5bb-4ddf-a694-cc3625a25af9",
   "metadata": {},
   "outputs": [],
   "source": [
    "gb = GradientBoostingRegressor(random_state=42)\n",
    "gb_model = make_pipeline(\n",
    "    StandardScaler(),\n",
    "    gb\n",
    ")\n",
    "#hyperparameters\n",
    "params= {\n",
    "    \"gradientboostingregressor__learning_rate\":np.arange(0.1, 0.5, 0.1),\n",
    "    \"gradientboostingregressor__n_estimators\":np.arange(50, 201, 50),\n",
    "    \"gradientboostingregressor__max_depth\":np.arange(2, 11, 2)\n",
    "}"
   ]
  },
  {
   "cell_type": "code",
   "execution_count": 41,
   "id": "6a459324-7bc2-47ef-918b-c1973dd7cad0",
   "metadata": {},
   "outputs": [
    {
     "name": "stdout",
     "output_type": "stream",
     "text": [
      "Fitting 5 folds for each of 80 candidates, totalling 400 fits\n"
     ]
    },
    {
     "data": {
      "text/plain": [
       "GridSearchCV(cv=5,\n",
       "             estimator=Pipeline(steps=[('standardscaler', StandardScaler()),\n",
       "                                       ('gradientboostingregressor',\n",
       "                                        GradientBoostingRegressor(random_state=42))]),\n",
       "             n_jobs=-1,\n",
       "             param_grid={'gradientboostingregressor__learning_rate': array([0.1, 0.2, 0.3, 0.4]),\n",
       "                         'gradientboostingregressor__max_depth': array([ 2,  4,  6,  8, 10]),\n",
       "                         'gradientboostingregressor__n_estimators': array([ 50, 100, 150, 200])},\n",
       "             verbose=1)"
      ]
     },
     "execution_count": 41,
     "metadata": {},
     "output_type": "execute_result"
    }
   ],
   "source": [
    "model_gb = GridSearchCV(gb_model, param_grid=params, n_jobs=-1, verbose=1, cv=5)\n",
    "model_gb.fit(X_train, y_train)"
   ]
  },
  {
   "cell_type": "code",
   "execution_count": 42,
   "id": "6781c882-82f9-4c36-bfe7-4df6b9e6414e",
   "metadata": {},
   "outputs": [
    {
     "data": {
      "text/plain": [
       "Pipeline(steps=[('standardscaler', StandardScaler()),\n",
       "                ('gradientboostingregressor',\n",
       "                 GradientBoostingRegressor(learning_rate=0.2, max_depth=4,\n",
       "                                           n_estimators=200,\n",
       "                                           random_state=42))])"
      ]
     },
     "execution_count": 42,
     "metadata": {},
     "output_type": "execute_result"
    }
   ],
   "source": [
    "model_gb.best_estimator_"
   ]
  },
  {
   "cell_type": "code",
   "execution_count": 43,
   "id": "6e52cd2a-a311-44de-8087-d4549e7663fa",
   "metadata": {},
   "outputs": [
    {
     "data": {
      "text/plain": [
       "0.9141014280493606"
      ]
     },
     "execution_count": 43,
     "metadata": {},
     "output_type": "execute_result"
    }
   ],
   "source": [
    "model_gb.best_score_"
   ]
  },
  {
   "cell_type": "code",
   "execution_count": 44,
   "id": "e13968b7-c978-41f3-97f0-d6e00a0eb684",
   "metadata": {},
   "outputs": [
    {
     "data": {
      "text/html": [
       "<div>\n",
       "<style scoped>\n",
       "    .dataframe tbody tr th:only-of-type {\n",
       "        vertical-align: middle;\n",
       "    }\n",
       "\n",
       "    .dataframe tbody tr th {\n",
       "        vertical-align: top;\n",
       "    }\n",
       "\n",
       "    .dataframe thead th {\n",
       "        text-align: right;\n",
       "    }\n",
       "</style>\n",
       "<table border=\"1\" class=\"dataframe\">\n",
       "  <thead>\n",
       "    <tr style=\"text-align: right;\">\n",
       "      <th></th>\n",
       "      <th>mean_fit_time</th>\n",
       "      <th>std_fit_time</th>\n",
       "      <th>mean_score_time</th>\n",
       "      <th>std_score_time</th>\n",
       "      <th>param_gradientboostingregressor__learning_rate</th>\n",
       "      <th>param_gradientboostingregressor__max_depth</th>\n",
       "      <th>param_gradientboostingregressor__n_estimators</th>\n",
       "      <th>params</th>\n",
       "      <th>split0_test_score</th>\n",
       "      <th>split1_test_score</th>\n",
       "      <th>split2_test_score</th>\n",
       "      <th>split3_test_score</th>\n",
       "      <th>split4_test_score</th>\n",
       "      <th>mean_test_score</th>\n",
       "      <th>std_test_score</th>\n",
       "      <th>rank_test_score</th>\n",
       "    </tr>\n",
       "  </thead>\n",
       "  <tbody>\n",
       "    <tr>\n",
       "      <th>27</th>\n",
       "      <td>0.466124</td>\n",
       "      <td>0.005379</td>\n",
       "      <td>0.005198</td>\n",
       "      <td>0.000400</td>\n",
       "      <td>0.2</td>\n",
       "      <td>4</td>\n",
       "      <td>200</td>\n",
       "      <td>{'gradientboostingregressor__learning_rate': 0...</td>\n",
       "      <td>0.905674</td>\n",
       "      <td>0.929244</td>\n",
       "      <td>0.922552</td>\n",
       "      <td>0.905000</td>\n",
       "      <td>0.908037</td>\n",
       "      <td>0.914101</td>\n",
       "      <td>0.009913</td>\n",
       "      <td>1</td>\n",
       "    </tr>\n",
       "    <tr>\n",
       "      <th>26</th>\n",
       "      <td>0.350154</td>\n",
       "      <td>0.005943</td>\n",
       "      <td>0.004798</td>\n",
       "      <td>0.000400</td>\n",
       "      <td>0.2</td>\n",
       "      <td>4</td>\n",
       "      <td>150</td>\n",
       "      <td>{'gradientboostingregressor__learning_rate': 0...</td>\n",
       "      <td>0.905517</td>\n",
       "      <td>0.929148</td>\n",
       "      <td>0.921514</td>\n",
       "      <td>0.903820</td>\n",
       "      <td>0.906010</td>\n",
       "      <td>0.913202</td>\n",
       "      <td>0.010219</td>\n",
       "      <td>2</td>\n",
       "    </tr>\n",
       "    <tr>\n",
       "      <th>7</th>\n",
       "      <td>0.539586</td>\n",
       "      <td>0.024725</td>\n",
       "      <td>0.005197</td>\n",
       "      <td>0.000401</td>\n",
       "      <td>0.1</td>\n",
       "      <td>4</td>\n",
       "      <td>200</td>\n",
       "      <td>{'gradientboostingregressor__learning_rate': 0...</td>\n",
       "      <td>0.901894</td>\n",
       "      <td>0.923919</td>\n",
       "      <td>0.927276</td>\n",
       "      <td>0.906811</td>\n",
       "      <td>0.898625</td>\n",
       "      <td>0.911705</td>\n",
       "      <td>0.011687</td>\n",
       "      <td>3</td>\n",
       "    </tr>\n",
       "    <tr>\n",
       "      <th>25</th>\n",
       "      <td>0.245098</td>\n",
       "      <td>0.012351</td>\n",
       "      <td>0.004598</td>\n",
       "      <td>0.000490</td>\n",
       "      <td>0.2</td>\n",
       "      <td>4</td>\n",
       "      <td>100</td>\n",
       "      <td>{'gradientboostingregressor__learning_rate': 0...</td>\n",
       "      <td>0.903605</td>\n",
       "      <td>0.929304</td>\n",
       "      <td>0.916919</td>\n",
       "      <td>0.898068</td>\n",
       "      <td>0.903345</td>\n",
       "      <td>0.910248</td>\n",
       "      <td>0.011382</td>\n",
       "      <td>4</td>\n",
       "    </tr>\n",
       "    <tr>\n",
       "      <th>47</th>\n",
       "      <td>0.500719</td>\n",
       "      <td>0.011210</td>\n",
       "      <td>0.005398</td>\n",
       "      <td>0.000489</td>\n",
       "      <td>0.3</td>\n",
       "      <td>4</td>\n",
       "      <td>200</td>\n",
       "      <td>{'gradientboostingregressor__learning_rate': 0...</td>\n",
       "      <td>0.895060</td>\n",
       "      <td>0.926343</td>\n",
       "      <td>0.923510</td>\n",
       "      <td>0.899139</td>\n",
       "      <td>0.901299</td>\n",
       "      <td>0.909070</td>\n",
       "      <td>0.013131</td>\n",
       "      <td>5</td>\n",
       "    </tr>\n",
       "  </tbody>\n",
       "</table>\n",
       "</div>"
      ],
      "text/plain": [
       "    mean_fit_time  std_fit_time  mean_score_time  std_score_time  \\\n",
       "27       0.466124      0.005379         0.005198        0.000400   \n",
       "26       0.350154      0.005943         0.004798        0.000400   \n",
       "7        0.539586      0.024725         0.005197        0.000401   \n",
       "25       0.245098      0.012351         0.004598        0.000490   \n",
       "47       0.500719      0.011210         0.005398        0.000489   \n",
       "\n",
       "   param_gradientboostingregressor__learning_rate  \\\n",
       "27                                            0.2   \n",
       "26                                            0.2   \n",
       "7                                             0.1   \n",
       "25                                            0.2   \n",
       "47                                            0.3   \n",
       "\n",
       "   param_gradientboostingregressor__max_depth  \\\n",
       "27                                          4   \n",
       "26                                          4   \n",
       "7                                           4   \n",
       "25                                          4   \n",
       "47                                          4   \n",
       "\n",
       "   param_gradientboostingregressor__n_estimators  \\\n",
       "27                                           200   \n",
       "26                                           150   \n",
       "7                                            200   \n",
       "25                                           100   \n",
       "47                                           200   \n",
       "\n",
       "                                               params  split0_test_score  \\\n",
       "27  {'gradientboostingregressor__learning_rate': 0...           0.905674   \n",
       "26  {'gradientboostingregressor__learning_rate': 0...           0.905517   \n",
       "7   {'gradientboostingregressor__learning_rate': 0...           0.901894   \n",
       "25  {'gradientboostingregressor__learning_rate': 0...           0.903605   \n",
       "47  {'gradientboostingregressor__learning_rate': 0...           0.895060   \n",
       "\n",
       "    split1_test_score  split2_test_score  split3_test_score  \\\n",
       "27           0.929244           0.922552           0.905000   \n",
       "26           0.929148           0.921514           0.903820   \n",
       "7            0.923919           0.927276           0.906811   \n",
       "25           0.929304           0.916919           0.898068   \n",
       "47           0.926343           0.923510           0.899139   \n",
       "\n",
       "    split4_test_score  mean_test_score  std_test_score  rank_test_score  \n",
       "27           0.908037         0.914101        0.009913                1  \n",
       "26           0.906010         0.913202        0.010219                2  \n",
       "7            0.898625         0.911705        0.011687                3  \n",
       "25           0.903345         0.910248        0.011382                4  \n",
       "47           0.901299         0.909070        0.013131                5  "
      ]
     },
     "execution_count": 44,
     "metadata": {},
     "output_type": "execute_result"
    }
   ],
   "source": [
    "pd.DataFrame(model_gb.cv_results_).sort_values(\"rank_test_score\").head()"
   ]
  },
  {
   "cell_type": "code",
   "execution_count": null,
   "id": "63d50ee4-7992-448c-8a0c-9795c9fd9929",
   "metadata": {},
   "outputs": [],
   "source": []
  },
  {
   "cell_type": "markdown",
   "id": "f3925477-304a-4548-bed6-743b5f66dd33",
   "metadata": {},
   "source": [
    "#### KNN"
   ]
  },
  {
   "cell_type": "code",
   "execution_count": 45,
   "id": "a2485bb7-cfd0-45ca-b3a3-b2aa4959a479",
   "metadata": {},
   "outputs": [],
   "source": [
    "knn = KNeighborsRegressor()\n",
    "knn_model = make_pipeline(\n",
    "    StandardScaler(),\n",
    "    knn\n",
    ")\n",
    "#hyperparameters\n",
    "params= {\n",
    "    \"kneighborsregressor__n_neighbors\":np.arange(3, 13, 1),\n",
    "    \"kneighborsregressor__weights\":[\"uniform\", \"distance\"]\n",
    "}"
   ]
  },
  {
   "cell_type": "code",
   "execution_count": 46,
   "id": "93274526-923c-41f3-a589-74c4b19ed7e8",
   "metadata": {},
   "outputs": [
    {
     "name": "stdout",
     "output_type": "stream",
     "text": [
      "Fitting 5 folds for each of 20 candidates, totalling 100 fits\n"
     ]
    },
    {
     "data": {
      "text/plain": [
       "GridSearchCV(cv=5,\n",
       "             estimator=Pipeline(steps=[('standardscaler', StandardScaler()),\n",
       "                                       ('kneighborsregressor',\n",
       "                                        KNeighborsRegressor())]),\n",
       "             n_jobs=-1,\n",
       "             param_grid={'kneighborsregressor__n_neighbors': array([ 3,  4,  5,  6,  7,  8,  9, 10, 11, 12]),\n",
       "                         'kneighborsregressor__weights': ['uniform',\n",
       "                                                          'distance']},\n",
       "             verbose=10)"
      ]
     },
     "execution_count": 46,
     "metadata": {},
     "output_type": "execute_result"
    }
   ],
   "source": [
    "model_knn = GridSearchCV(knn_model, param_grid=params, n_jobs=-1, verbose=10, cv=5)\n",
    "model_knn.fit(X_train, y_train)"
   ]
  },
  {
   "cell_type": "code",
   "execution_count": 47,
   "id": "8627ecfc-de2d-430e-a4a0-078e5daf3bd5",
   "metadata": {},
   "outputs": [
    {
     "data": {
      "text/plain": [
       "Pipeline(steps=[('standardscaler', StandardScaler()),\n",
       "                ('kneighborsregressor',\n",
       "                 KNeighborsRegressor(n_neighbors=7, weights='distance'))])"
      ]
     },
     "execution_count": 47,
     "metadata": {},
     "output_type": "execute_result"
    }
   ],
   "source": [
    "model_knn.best_estimator_"
   ]
  },
  {
   "cell_type": "code",
   "execution_count": 48,
   "id": "c6a29319-e07b-4b4b-9408-cdc912db4e73",
   "metadata": {},
   "outputs": [
    {
     "data": {
      "text/plain": [
       "0.7018578697068684"
      ]
     },
     "execution_count": 48,
     "metadata": {},
     "output_type": "execute_result"
    }
   ],
   "source": [
    "model_knn.best_score_"
   ]
  },
  {
   "cell_type": "code",
   "execution_count": 49,
   "id": "83852b32-f09f-4c16-afb6-f2793227abcd",
   "metadata": {},
   "outputs": [
    {
     "data": {
      "text/plain": [
       "{'kneighborsregressor__n_neighbors': 7,\n",
       " 'kneighborsregressor__weights': 'distance'}"
      ]
     },
     "execution_count": 49,
     "metadata": {},
     "output_type": "execute_result"
    }
   ],
   "source": [
    "model_knn.best_params_"
   ]
  },
  {
   "cell_type": "code",
   "execution_count": 50,
   "id": "1bda09c2-c350-4e97-a4f4-ce890f459708",
   "metadata": {},
   "outputs": [
    {
     "data": {
      "text/html": [
       "<div>\n",
       "<style scoped>\n",
       "    .dataframe tbody tr th:only-of-type {\n",
       "        vertical-align: middle;\n",
       "    }\n",
       "\n",
       "    .dataframe tbody tr th {\n",
       "        vertical-align: top;\n",
       "    }\n",
       "\n",
       "    .dataframe thead th {\n",
       "        text-align: right;\n",
       "    }\n",
       "</style>\n",
       "<table border=\"1\" class=\"dataframe\">\n",
       "  <thead>\n",
       "    <tr style=\"text-align: right;\">\n",
       "      <th></th>\n",
       "      <th>mean_fit_time</th>\n",
       "      <th>std_fit_time</th>\n",
       "      <th>mean_score_time</th>\n",
       "      <th>std_score_time</th>\n",
       "      <th>param_kneighborsregressor__n_neighbors</th>\n",
       "      <th>param_kneighborsregressor__weights</th>\n",
       "      <th>params</th>\n",
       "      <th>split0_test_score</th>\n",
       "      <th>split1_test_score</th>\n",
       "      <th>split2_test_score</th>\n",
       "      <th>split3_test_score</th>\n",
       "      <th>split4_test_score</th>\n",
       "      <th>mean_test_score</th>\n",
       "      <th>std_test_score</th>\n",
       "      <th>rank_test_score</th>\n",
       "    </tr>\n",
       "  </thead>\n",
       "  <tbody>\n",
       "    <tr>\n",
       "      <th>9</th>\n",
       "      <td>0.009594</td>\n",
       "      <td>0.000490</td>\n",
       "      <td>0.007996</td>\n",
       "      <td>0.000894</td>\n",
       "      <td>7</td>\n",
       "      <td>distance</td>\n",
       "      <td>{'kneighborsregressor__n_neighbors': 7, 'kneig...</td>\n",
       "      <td>0.660789</td>\n",
       "      <td>0.732009</td>\n",
       "      <td>0.717781</td>\n",
       "      <td>0.770603</td>\n",
       "      <td>0.628107</td>\n",
       "      <td>0.701858</td>\n",
       "      <td>0.051018</td>\n",
       "      <td>1</td>\n",
       "    </tr>\n",
       "    <tr>\n",
       "      <th>13</th>\n",
       "      <td>0.010394</td>\n",
       "      <td>0.001200</td>\n",
       "      <td>0.008396</td>\n",
       "      <td>0.000490</td>\n",
       "      <td>9</td>\n",
       "      <td>distance</td>\n",
       "      <td>{'kneighborsregressor__n_neighbors': 9, 'kneig...</td>\n",
       "      <td>0.646825</td>\n",
       "      <td>0.725046</td>\n",
       "      <td>0.707935</td>\n",
       "      <td>0.778041</td>\n",
       "      <td>0.646831</td>\n",
       "      <td>0.700936</td>\n",
       "      <td>0.049862</td>\n",
       "      <td>2</td>\n",
       "    </tr>\n",
       "    <tr>\n",
       "      <th>11</th>\n",
       "      <td>0.010794</td>\n",
       "      <td>0.000748</td>\n",
       "      <td>0.007596</td>\n",
       "      <td>0.000489</td>\n",
       "      <td>8</td>\n",
       "      <td>distance</td>\n",
       "      <td>{'kneighborsregressor__n_neighbors': 8, 'kneig...</td>\n",
       "      <td>0.652897</td>\n",
       "      <td>0.726354</td>\n",
       "      <td>0.710641</td>\n",
       "      <td>0.772957</td>\n",
       "      <td>0.640064</td>\n",
       "      <td>0.700583</td>\n",
       "      <td>0.048867</td>\n",
       "      <td>3</td>\n",
       "    </tr>\n",
       "    <tr>\n",
       "      <th>15</th>\n",
       "      <td>0.009394</td>\n",
       "      <td>0.000489</td>\n",
       "      <td>0.010432</td>\n",
       "      <td>0.002788</td>\n",
       "      <td>10</td>\n",
       "      <td>distance</td>\n",
       "      <td>{'kneighborsregressor__n_neighbors': 10, 'knei...</td>\n",
       "      <td>0.643849</td>\n",
       "      <td>0.723877</td>\n",
       "      <td>0.706420</td>\n",
       "      <td>0.776781</td>\n",
       "      <td>0.645761</td>\n",
       "      <td>0.699338</td>\n",
       "      <td>0.050198</td>\n",
       "      <td>4</td>\n",
       "    </tr>\n",
       "    <tr>\n",
       "      <th>17</th>\n",
       "      <td>0.010031</td>\n",
       "      <td>0.000576</td>\n",
       "      <td>0.008632</td>\n",
       "      <td>0.000448</td>\n",
       "      <td>11</td>\n",
       "      <td>distance</td>\n",
       "      <td>{'kneighborsregressor__n_neighbors': 11, 'knei...</td>\n",
       "      <td>0.638874</td>\n",
       "      <td>0.715595</td>\n",
       "      <td>0.703475</td>\n",
       "      <td>0.781531</td>\n",
       "      <td>0.647961</td>\n",
       "      <td>0.697487</td>\n",
       "      <td>0.051605</td>\n",
       "      <td>5</td>\n",
       "    </tr>\n",
       "  </tbody>\n",
       "</table>\n",
       "</div>"
      ],
      "text/plain": [
       "    mean_fit_time  std_fit_time  mean_score_time  std_score_time  \\\n",
       "9        0.009594      0.000490         0.007996        0.000894   \n",
       "13       0.010394      0.001200         0.008396        0.000490   \n",
       "11       0.010794      0.000748         0.007596        0.000489   \n",
       "15       0.009394      0.000489         0.010432        0.002788   \n",
       "17       0.010031      0.000576         0.008632        0.000448   \n",
       "\n",
       "   param_kneighborsregressor__n_neighbors param_kneighborsregressor__weights  \\\n",
       "9                                       7                           distance   \n",
       "13                                      9                           distance   \n",
       "11                                      8                           distance   \n",
       "15                                     10                           distance   \n",
       "17                                     11                           distance   \n",
       "\n",
       "                                               params  split0_test_score  \\\n",
       "9   {'kneighborsregressor__n_neighbors': 7, 'kneig...           0.660789   \n",
       "13  {'kneighborsregressor__n_neighbors': 9, 'kneig...           0.646825   \n",
       "11  {'kneighborsregressor__n_neighbors': 8, 'kneig...           0.652897   \n",
       "15  {'kneighborsregressor__n_neighbors': 10, 'knei...           0.643849   \n",
       "17  {'kneighborsregressor__n_neighbors': 11, 'knei...           0.638874   \n",
       "\n",
       "    split1_test_score  split2_test_score  split3_test_score  \\\n",
       "9            0.732009           0.717781           0.770603   \n",
       "13           0.725046           0.707935           0.778041   \n",
       "11           0.726354           0.710641           0.772957   \n",
       "15           0.723877           0.706420           0.776781   \n",
       "17           0.715595           0.703475           0.781531   \n",
       "\n",
       "    split4_test_score  mean_test_score  std_test_score  rank_test_score  \n",
       "9            0.628107         0.701858        0.051018                1  \n",
       "13           0.646831         0.700936        0.049862                2  \n",
       "11           0.640064         0.700583        0.048867                3  \n",
       "15           0.645761         0.699338        0.050198                4  \n",
       "17           0.647961         0.697487        0.051605                5  "
      ]
     },
     "execution_count": 50,
     "metadata": {},
     "output_type": "execute_result"
    }
   ],
   "source": [
    "pd.DataFrame(model_knn.cv_results_).sort_values(\"rank_test_score\").head()"
   ]
  },
  {
   "cell_type": "code",
   "execution_count": null,
   "id": "6b88675e-2196-4f87-b371-06193898b8ec",
   "metadata": {},
   "outputs": [],
   "source": []
  },
  {
   "cell_type": "markdown",
   "id": "b2a67418-e793-4136-a1b6-3dad917f4941",
   "metadata": {},
   "source": [
    "# Final Models"
   ]
  },
  {
   "cell_type": "code",
   "execution_count": 51,
   "id": "598a1005-f7e5-43bc-8baf-774c96e27c01",
   "metadata": {},
   "outputs": [],
   "source": [
    "# Make Pipeline\n",
    "models = {\n",
    "    'LR': LinearRegression(n_jobs=-1),\n",
    "    'DT': DecisionTreeRegressor(random_state=42, max_depth=16),\n",
    "    'RF': RandomForestRegressor(n_estimators=450, max_depth=20, random_state=42),\n",
    "    'GB': GradientBoostingRegressor(max_depth=4, learning_rate=0.2, n_estimators=200),\n",
    "    'KNN': KNeighborsRegressor(n_neighbors=7, weights=\"distance\")\n",
    "}\n",
    "\n",
    "train_mae = []\n",
    "train_r2 = []\n",
    "train_rmse = []\n",
    "train_mape = []\n",
    "test_mae = []\n",
    "test_r2 = []\n",
    "test_rmse = []\n",
    "test_mape = []\n",
    "\n",
    "for model in models.values():\n",
    "    model.fit(X_train, y_train)\n",
    "    y_train_pred = model.predict(X_train)\n",
    "    train_mae.append(mean_absolute_error(y_train, y_train_pred))\n",
    "    train_r2.append(r2_score(y_train, y_train_pred))\n",
    "    train_rmse.append((mean_squared_error(y_train, y_train_pred))**0.5)\n",
    "    train_mape.append(mean_absolute_percentage_error(y_train, y_train_pred))\n",
    "    y_test_pred = model.predict(X_test)\n",
    "    test_mae.append(mean_absolute_error(y_test, y_test_pred))\n",
    "    test_r2.append(r2_score(y_test, y_test_pred))\n",
    "    test_rmse.append((mean_squared_error(y_test, y_test_pred))**0.5)\n",
    "    test_mape.append(mean_absolute_percentage_error(y_test, y_test_pred))"
   ]
  },
  {
   "cell_type": "code",
   "execution_count": 52,
   "id": "26e2d57c-b2ea-438d-a744-59fba1307854",
   "metadata": {},
   "outputs": [
    {
     "data": {
      "text/html": [
       "<div>\n",
       "<style scoped>\n",
       "    .dataframe tbody tr th:only-of-type {\n",
       "        vertical-align: middle;\n",
       "    }\n",
       "\n",
       "    .dataframe tbody tr th {\n",
       "        vertical-align: top;\n",
       "    }\n",
       "\n",
       "    .dataframe thead th {\n",
       "        text-align: right;\n",
       "    }\n",
       "</style>\n",
       "<table border=\"1\" class=\"dataframe\">\n",
       "  <thead>\n",
       "    <tr style=\"text-align: right;\">\n",
       "      <th></th>\n",
       "      <th>y_test</th>\n",
       "      <th>y_pred_test</th>\n",
       "    </tr>\n",
       "  </thead>\n",
       "  <tbody>\n",
       "    <tr>\n",
       "      <th>0</th>\n",
       "      <td>19.01</td>\n",
       "      <td>19.823062</td>\n",
       "    </tr>\n",
       "    <tr>\n",
       "      <th>1</th>\n",
       "      <td>24.29</td>\n",
       "      <td>25.128104</td>\n",
       "    </tr>\n",
       "    <tr>\n",
       "      <th>2</th>\n",
       "      <td>26.32</td>\n",
       "      <td>22.266542</td>\n",
       "    </tr>\n",
       "    <tr>\n",
       "      <th>3</th>\n",
       "      <td>34.57</td>\n",
       "      <td>34.434091</td>\n",
       "    </tr>\n",
       "    <tr>\n",
       "      <th>4</th>\n",
       "      <td>44.13</td>\n",
       "      <td>45.178153</td>\n",
       "    </tr>\n",
       "  </tbody>\n",
       "</table>\n",
       "</div>"
      ],
      "text/plain": [
       "   y_test  y_pred_test\n",
       "0   19.01    19.823062\n",
       "1   24.29    25.128104\n",
       "2   26.32    22.266542\n",
       "3   34.57    34.434091\n",
       "4   44.13    45.178153"
      ]
     },
     "execution_count": 52,
     "metadata": {},
     "output_type": "execute_result"
    }
   ],
   "source": [
    "y_test_pred = models[\"GB\"].predict(X_test)\n",
    "predicted_values = pd.DataFrame({\"y_test\": y_test, \"y_pred_test\": y_test_pred}).reset_index(drop=True)\n",
    "predicted_values.head()"
   ]
  },
  {
   "cell_type": "code",
   "execution_count": 53,
   "id": "61505d13-d5d2-46d8-870a-901be18fc9cc",
   "metadata": {},
   "outputs": [
    {
     "data": {
      "text/html": [
       "<div>\n",
       "<style scoped>\n",
       "    .dataframe tbody tr th:only-of-type {\n",
       "        vertical-align: middle;\n",
       "    }\n",
       "\n",
       "    .dataframe tbody tr th {\n",
       "        vertical-align: top;\n",
       "    }\n",
       "\n",
       "    .dataframe thead th {\n",
       "        text-align: right;\n",
       "    }\n",
       "</style>\n",
       "<table border=\"1\" class=\"dataframe\">\n",
       "  <thead>\n",
       "    <tr style=\"text-align: right;\">\n",
       "      <th></th>\n",
       "      <th>Train MAE</th>\n",
       "      <th>Train R2</th>\n",
       "      <th>Train RMSE</th>\n",
       "      <th>Train MAPE</th>\n",
       "      <th>Test MAE</th>\n",
       "      <th>Test R2</th>\n",
       "      <th>Test RMSE</th>\n",
       "      <th>Test MAPE</th>\n",
       "    </tr>\n",
       "  </thead>\n",
       "  <tbody>\n",
       "    <tr>\n",
       "      <th>LR</th>\n",
       "      <td>7.959910</td>\n",
       "      <td>0.609867</td>\n",
       "      <td>10.001795</td>\n",
       "      <td>0.308019</td>\n",
       "      <td>8.895256</td>\n",
       "      <td>0.580170</td>\n",
       "      <td>11.191320</td>\n",
       "      <td>0.346852</td>\n",
       "    </tr>\n",
       "    <tr>\n",
       "      <th>DT</th>\n",
       "      <td>0.096016</td>\n",
       "      <td>0.996391</td>\n",
       "      <td>0.962022</td>\n",
       "      <td>0.002588</td>\n",
       "      <td>3.850025</td>\n",
       "      <td>0.878371</td>\n",
       "      <td>6.023704</td>\n",
       "      <td>0.138957</td>\n",
       "    </tr>\n",
       "    <tr>\n",
       "      <th>RF</th>\n",
       "      <td>1.358437</td>\n",
       "      <td>0.983892</td>\n",
       "      <td>2.032345</td>\n",
       "      <td>0.047150</td>\n",
       "      <td>3.487651</td>\n",
       "      <td>0.910149</td>\n",
       "      <td>5.177321</td>\n",
       "      <td>0.122384</td>\n",
       "    </tr>\n",
       "    <tr>\n",
       "      <th>GB</th>\n",
       "      <td>0.882291</td>\n",
       "      <td>0.991214</td>\n",
       "      <td>1.500920</td>\n",
       "      <td>0.031605</td>\n",
       "      <td>2.679768</td>\n",
       "      <td>0.937720</td>\n",
       "      <td>4.310406</td>\n",
       "      <td>0.093655</td>\n",
       "    </tr>\n",
       "    <tr>\n",
       "      <th>KNN</th>\n",
       "      <td>0.094436</td>\n",
       "      <td>0.996395</td>\n",
       "      <td>0.961501</td>\n",
       "      <td>0.002556</td>\n",
       "      <td>5.813226</td>\n",
       "      <td>0.759190</td>\n",
       "      <td>8.475817</td>\n",
       "      <td>0.225459</td>\n",
       "    </tr>\n",
       "  </tbody>\n",
       "</table>\n",
       "</div>"
      ],
      "text/plain": [
       "     Train MAE  Train R2  Train RMSE  Train MAPE  Test MAE   Test R2  \\\n",
       "LR    7.959910  0.609867   10.001795    0.308019  8.895256  0.580170   \n",
       "DT    0.096016  0.996391    0.962022    0.002588  3.850025  0.878371   \n",
       "RF    1.358437  0.983892    2.032345    0.047150  3.487651  0.910149   \n",
       "GB    0.882291  0.991214    1.500920    0.031605  2.679768  0.937720   \n",
       "KNN   0.094436  0.996395    0.961501    0.002556  5.813226  0.759190   \n",
       "\n",
       "     Test RMSE  Test MAPE  \n",
       "LR   11.191320   0.346852  \n",
       "DT    6.023704   0.138957  \n",
       "RF    5.177321   0.122384  \n",
       "GB    4.310406   0.093655  \n",
       "KNN   8.475817   0.225459  "
      ]
     },
     "execution_count": 53,
     "metadata": {},
     "output_type": "execute_result"
    }
   ],
   "source": [
    "result = pd.DataFrame({'Train MAE':train_mae, 'Train R2':train_r2, 'Train RMSE':train_rmse, 'Train MAPE':train_mape, 'Test MAE':test_mae, \n",
    "                       'Test R2':test_r2, 'Test RMSE':test_rmse, 'Test MAPE':test_mape}, index=models.keys())\n",
    "result"
   ]
  },
  {
   "cell_type": "code",
   "execution_count": 54,
   "id": "86f16af6-ed2f-4cdb-83ef-5d5b64fc9a17",
   "metadata": {},
   "outputs": [],
   "source": [
    "result.to_csv(\"Metrics Table.csv\")"
   ]
  },
  {
   "cell_type": "code",
   "execution_count": 55,
   "id": "e1a4b225-7358-4b04-8cb9-7a1db45e4cb8",
   "metadata": {},
   "outputs": [],
   "source": [
    "result_train = pd.DataFrame({'MAE':train_mae, 'R2':train_r2, 'RMSE':train_rmse, 'MAPE':train_mape}, index=models.keys())\n",
    "result_train.to_csv(\"Train Metrics Table.csv\")"
   ]
  },
  {
   "cell_type": "code",
   "execution_count": 56,
   "id": "560d328c-8793-462d-9150-22db8405a02c",
   "metadata": {},
   "outputs": [],
   "source": [
    "result_test = pd.DataFrame({'MAE':test_mae, 'R2':test_r2, 'RMSE':test_rmse, 'MAPE':test_mape}, index=models.keys())\n",
    "result_test.to_csv(\"Test Metrics Table.csv\")"
   ]
  },
  {
   "cell_type": "code",
   "execution_count": 57,
   "id": "aa178571-a17f-4035-94da-cc545b2e88ed",
   "metadata": {},
   "outputs": [
    {
     "data": {
      "image/png": "[encoded data removed]",
      "text/plain": [
       "<Figure size 576x432 with 1 Axes>"
      ]
     },
     "metadata": {
      "needs_background": "light"
     },
     "output_type": "display_data"
    }
   ],
   "source": [
    "result[['Train MAE','Test MAE']].plot(kind='bar',figsize=(8, 6))\n",
    "plt.ylabel('Mean Absolute Error')\n",
    "#plt.ylim([60, 100])\n",
    "plt.xticks(rotation=0)\n",
    "plt.legend();\n",
    "plt.savefig('MAE Chart.jpg')"
   ]
  },
  {
   "cell_type": "code",
   "execution_count": null,
   "id": "e769d5cd-577a-48e7-833a-ce2ffb335ad7",
   "metadata": {},
   "outputs": [],
   "source": []
  },
  {
   "cell_type": "code",
   "execution_count": null,
   "id": "7f9a1b5c-a3e2-4473-96c3-cc6907fe1654",
   "metadata": {},
   "outputs": [],
   "source": []
  },
  {
   "cell_type": "code",
   "execution_count": 58,
   "id": "0c022535-4b1a-4994-9193-72ab36aa634b",
   "metadata": {},
   "outputs": [],
   "source": [
    "intercept = models['LR'].intercept_\n",
    "coef = models['LR'].coef_"
   ]
  },
  {
   "cell_type": "code",
   "execution_count": 59,
   "id": "3bbba0c6",
   "metadata": {},
   "outputs": [
    {
     "name": "stdout",
     "output_type": "stream",
     "text": [
      "Concrete Strength =  -23.3893 + ( Cement * 0.1167 ) + ( BFS * 0.0981 ) + ( Fly_Ash * 0.0846 ) + ( Water * -0.1314 ) + ( Superplasticizer * 0.3315 ) + ( Coarse_Aggregate * 0.0155 ) + ( Fine_Aggregate * 0.0206 ) + ( Age * 0.1106 )\n"
     ]
    }
   ],
   "source": [
    "print(f\"Concrete Strength = \",intercept.round(4), \"+ (\", X.columns[0], \"*\", coef[0].round(4),\n",
    "      \") + (\", X.columns[1], \"*\", coef[1].round(4),\") + (\", X.columns[2], \"*\", coef[2].round(4),\n",
    "      \") + (\", X.columns[3], \"*\", coef[3].round(4),\") + (\",X.columns[4], \"*\", coef[4].round(4),\n",
    "      \") + (\", X.columns[5], \"*\", coef[5].round(4),\") + (\", X.columns[6], \"*\", coef[6].round(4),\n",
    "      \") + (\",X.columns[7], \"*\", coef[7].round(4),\")\") "
   ]
  },
  {
   "cell_type": "code",
   "execution_count": null,
   "id": "f43467b1-8cc0-4ee1-9efc-bc948ce4cdea",
   "metadata": {},
   "outputs": [],
   "source": []
  },
  {
   "cell_type": "code",
   "execution_count": 60,
   "id": "240c487e-c56c-4dfe-819f-036bcdf5b2e3",
   "metadata": {},
   "outputs": [
    {
     "data": {
      "text/plain": [
       "array([0.35676258, 0.09367847, 0.01093619, 0.12127835, 0.04092443,\n",
       "       0.01894369, 0.03474516, 0.32273115])"
      ]
     },
     "execution_count": 60,
     "metadata": {},
     "output_type": "execute_result"
    }
   ],
   "source": [
    "models[\"DT\"].feature_importances_"
   ]
  },
  {
   "cell_type": "code",
   "execution_count": 61,
   "id": "c7c61e97-d36f-499d-8100-59a7c2ae50af",
   "metadata": {},
   "outputs": [
    {
     "data": {
      "image/png": "[encoded data removed]",
      "text/plain": [
       "<Figure size 1008x432 with 1 Axes>"
      ]
     },
     "metadata": {
      "needs_background": "light"
     },
     "output_type": "display_data"
    }
   ],
   "source": [
    "fig, ax = plt.subplots(figsize=(14,6))\n",
    "feat_imp_dt = pd.DataFrame({\"Features\":X.columns, \"Feature Importance\": models[\"DT\"].feature_importances_}).sort_values(\"Feature Importance\", ascending=False)\n",
    "sns.barplot(data=feat_imp_dt,y=\"Features\", x=\"Feature Importance\", color=\"Blue\")\n",
    "fig.savefig('Decision Tree Feature Importance.jpg');"
   ]
  },
  {
   "cell_type": "code",
   "execution_count": 62,
   "id": "4cb2bcb4-7d31-4273-8393-bceac862d33d",
   "metadata": {},
   "outputs": [],
   "source": [
    "feat_imp_dt.to_csv(\"DT Feat Importance.csv\")"
   ]
  },
  {
   "cell_type": "code",
   "execution_count": 63,
   "id": "2bd55bce-0fa2-470e-b090-a5991f72b024",
   "metadata": {},
   "outputs": [
    {
     "data": {
      "image/png": "[encoded data removed]",
      "text/plain": [
       "<Figure size 1296x720 with 1 Axes>"
      ]
     },
     "metadata": {
      "needs_background": "light"
     },
     "output_type": "display_data"
    }
   ],
   "source": [
    "fig, ax = plt.subplots(figsize=(18, 10))\n",
    "plot_tree(\n",
    "    models[\"DT\"],\n",
    "    filled=True,\n",
    "    max_depth=2,\n",
    "    node_ids=True,\n",
    "    feature_names=X_train.columns,\n",
    "    class_names=y.name\n",
    ")\n",
    "plt.savefig(\"tree.png\");"
   ]
  },
  {
   "cell_type": "code",
   "execution_count": null,
   "id": "1c2e6bcd-41fa-43d8-bf7d-9eb6d561c6c5",
   "metadata": {},
   "outputs": [],
   "source": []
  },
  {
   "cell_type": "code",
   "execution_count": 64,
   "id": "06d03af2-0ea5-46d7-b9e9-b2a8ae4e068c",
   "metadata": {},
   "outputs": [
    {
     "data": {
      "image/png": "[encoded data removed]",
      "text/plain": [
       "<Figure size 1008x432 with 1 Axes>"
      ]
     },
     "metadata": {
      "needs_background": "light"
     },
     "output_type": "display_data"
    }
   ],
   "source": [
    "fig, ax = plt.subplots(figsize=(14,6))\n",
    "feat_imp_rf = pd.DataFrame({\"Features\":X.columns, \"Feature Importance\": models[\"RF\"].feature_importances_}).sort_values(\"Feature Importance\", ascending=False)\n",
    "sns.barplot(data=feat_imp_rf,y=\"Features\", x=\"Feature Importance\", color=\"Blue\")\n",
    "fig.savefig('Random Forest Feature Importance.jpg');"
   ]
  },
  {
   "cell_type": "code",
   "execution_count": 65,
   "id": "8da66bca-90a9-4fea-8715-233475e0d877",
   "metadata": {},
   "outputs": [],
   "source": [
    "feat_imp_rf.to_csv(\"RF Feat Importance.csv\")"
   ]
  },
  {
   "cell_type": "code",
   "execution_count": null,
   "id": "cd05b6f8-4cd0-4e53-ad96-cb3a2738ee7a",
   "metadata": {},
   "outputs": [],
   "source": []
  },
  {
   "cell_type": "code",
   "execution_count": 66,
   "id": "c37c1c57-27e8-420c-a829-ce8f6c939972",
   "metadata": {},
   "outputs": [
    {
     "data": {
      "image/png": "[encoded data removed]",
      "text/plain": [
       "<Figure size 1008x432 with 1 Axes>"
      ]
     },
     "metadata": {
      "needs_background": "light"
     },
     "output_type": "display_data"
    }
   ],
   "source": [
    "fig, ax = plt.subplots(figsize=(14,6))\n",
    "feat_imp_gb = pd.DataFrame({\"Features\":X.columns, \"Feature Importance\": models[\"GB\"].feature_importances_}).sort_values(\"Feature Importance\", ascending=False)\n",
    "sns.barplot(data=feat_imp_gb,y=\"Features\", x=\"Feature Importance\", color=\"Blue\")\n",
    "fig.savefig('Gradient Boosting Feature Importance.jpg');"
   ]
  },
  {
   "cell_type": "code",
   "execution_count": null,
   "id": "2e9dde5b-b558-4f38-a314-240c0f26e59b",
   "metadata": {},
   "outputs": [],
   "source": []
  },
  {
   "cell_type": "code",
   "execution_count": null,
   "id": "1e7ba917-775c-48cf-8427-91da1810961e",
   "metadata": {},
   "outputs": [],
   "source": []
  },
  {
   "cell_type": "markdown",
   "id": "a3420c65-6017-4d96-b838-c35dfdea09cc",
   "metadata": {},
   "source": [
    "fig, ax = plt.subplots(figsize=(18, 10))\n",
    "plot_tree(\n",
    "    models[\"RF\"],\n",
    "    filled=True,\n",
    "    max_depth=2,\n",
    "    node_ids=True,\n",
    "    feature_names=X_train.columns,\n",
    "    class_names=y.name\n",
    ")\n",
    "plt.savefig(\"RF tree.png\");"
   ]
  },
  {
   "cell_type": "markdown",
   "id": "8ef30275-24da-4036-b673-081dcfb742e8",
   "metadata": {},
   "source": [
    "### Plots"
   ]
  },
  {
   "cell_type": "code",
   "execution_count": null,
   "id": "5d16321c-5d3e-4651-9209-92c257c4c8c1",
   "metadata": {},
   "outputs": [],
   "source": []
  },
  {
   "cell_type": "code",
   "execution_count": null,
   "id": "35a1eca0-513f-4009-89d8-3e7c82a162b5",
   "metadata": {},
   "outputs": [],
   "source": []
  },
  {
   "cell_type": "code",
   "execution_count": null,
   "id": "11c379b6-7c3e-4149-ab8b-db431f6dc554",
   "metadata": {},
   "outputs": [],
   "source": []
  },
  {
   "cell_type": "code",
   "execution_count": null,
   "id": "9456e439-45d5-4395-9e61-c2e96faa59fc",
   "metadata": {},
   "outputs": [],
   "source": []
  },
  {
   "cell_type": "code",
   "execution_count": null,
   "id": "217a6b6c-61d0-4395-81e8-6e4664da63b3",
   "metadata": {},
   "outputs": [],
   "source": []
  },
  {
   "cell_type": "code",
   "execution_count": null,
   "id": "30530d34-58f6-4aa7-b904-fc8897314040",
   "metadata": {},
   "outputs": [],
   "source": []
  },
  {
   "cell_type": "code",
   "execution_count": null,
   "id": "7bf43fe5-44fa-4093-935d-451280482c96",
   "metadata": {},
   "outputs": [],
   "source": []
  },
  {
   "cell_type": "code",
   "execution_count": null,
   "id": "29c71ec2-0457-4a66-a02c-09f9b5c5ea8d",
   "metadata": {},
   "outputs": [],
   "source": []
  },
  {
   "cell_type": "code",
   "execution_count": null,
   "id": "cd88487c-8250-44a2-8cf5-17fc8a2f6b0c",
   "metadata": {},
   "outputs": [],
   "source": []
  },
  {
   "cell_type": "markdown",
   "id": "14581975-3a22-4615-b191-09170500cbbf",
   "metadata": {},
   "source": [
    "### CV"
   ]
  },
  {
   "cell_type": "code",
   "execution_count": 67,
   "id": "9f692fda-efca-414c-8948-6ce1fe9f754d",
   "metadata": {},
   "outputs": [
    {
     "name": "stderr",
     "output_type": "stream",
     "text": [
      "[Parallel(n_jobs=-1)]: Using backend LokyBackend with 4 concurrent workers.\n",
      "[Parallel(n_jobs=-1)]: Done   3 out of   3 | elapsed:    0.0s finished\n",
      "[Parallel(n_jobs=-1)]: Using backend LokyBackend with 4 concurrent workers.\n",
      "[Parallel(n_jobs=-1)]: Done   3 out of   3 | elapsed:    0.0s finished\n",
      "[Parallel(n_jobs=-1)]: Using backend LokyBackend with 4 concurrent workers.\n",
      "[Parallel(n_jobs=-1)]: Done   3 out of   3 | elapsed:    2.5s finished\n",
      "[Parallel(n_jobs=-1)]: Using backend LokyBackend with 4 concurrent workers.\n",
      "[Parallel(n_jobs=-1)]: Done   3 out of   3 | elapsed:    0.3s finished\n",
      "[Parallel(n_jobs=-1)]: Using backend LokyBackend with 4 concurrent workers.\n",
      "[Parallel(n_jobs=-1)]: Done   3 out of   3 | elapsed:    0.0s finished\n",
      "[Parallel(n_jobs=-1)]: Using backend LokyBackend with 4 concurrent workers.\n",
      "[Parallel(n_jobs=-1)]: Done   5 out of   5 | elapsed:    0.0s finished\n",
      "[Parallel(n_jobs=-1)]: Using backend LokyBackend with 4 concurrent workers.\n",
      "[Parallel(n_jobs=-1)]: Done   5 out of   5 | elapsed:    0.0s finished\n",
      "[Parallel(n_jobs=-1)]: Using backend LokyBackend with 4 concurrent workers.\n",
      "[Parallel(n_jobs=-1)]: Done   5 out of   5 | elapsed:    5.6s finished\n",
      "[Parallel(n_jobs=-1)]: Using backend LokyBackend with 4 concurrent workers.\n",
      "[Parallel(n_jobs=-1)]: Done   5 out of   5 | elapsed:    0.7s finished\n",
      "[Parallel(n_jobs=-1)]: Using backend LokyBackend with 4 concurrent workers.\n",
      "[Parallel(n_jobs=-1)]: Done   5 out of   5 | elapsed:    0.0s finished\n",
      "[Parallel(n_jobs=-1)]: Using backend LokyBackend with 4 concurrent workers.\n",
      "[Parallel(n_jobs=-1)]: Done  10 out of  10 | elapsed:    0.0s finished\n",
      "[Parallel(n_jobs=-1)]: Using backend LokyBackend with 4 concurrent workers.\n",
      "[Parallel(n_jobs=-1)]: Done  10 out of  10 | elapsed:    0.0s finished\n",
      "[Parallel(n_jobs=-1)]: Using backend LokyBackend with 4 concurrent workers.\n",
      "[Parallel(n_jobs=-1)]: Done  10 out of  10 | elapsed:    9.0s finished\n",
      "[Parallel(n_jobs=-1)]: Using backend LokyBackend with 4 concurrent workers.\n",
      "[Parallel(n_jobs=-1)]: Done  10 out of  10 | elapsed:    1.4s finished\n",
      "[Parallel(n_jobs=-1)]: Using backend LokyBackend with 4 concurrent workers.\n",
      "[Parallel(n_jobs=-1)]: Done  10 out of  10 | elapsed:    0.0s finished\n"
     ]
    }
   ],
   "source": [
    "cv3_scores = []\n",
    "cv3_std = []\n",
    "cv5_scores = []\n",
    "cv5_std = []\n",
    "cv10_scores = []\n",
    "cv10_std = []\n",
    "\n",
    "for model in models.values():\n",
    "    scores = cross_val_score(model, X_train, y_train, cv=3, n_jobs=-1, verbose=1)\n",
    "    cv3_scores.append(round(scores.mean(), 4))\n",
    "    cv3_std.append(round(scores.std(), 4))\n",
    "\n",
    "for model in models.values():\n",
    "    scores = cross_val_score(model, X_train, y_train, cv=5, n_jobs=-1, verbose=1)\n",
    "    cv5_scores.append(round(scores.mean(), 4))\n",
    "    cv5_std.append(round(scores.std(), 4))\n",
    "\n",
    "for model in models.values():\n",
    "    scores = cross_val_score(model, X_train, y_train, cv=10, n_jobs=-1, verbose=1)\n",
    "    cv10_scores.append(round(scores.mean(), 4))\n",
    "    cv10_std.append(round(scores.std(), 4))"
   ]
  },
  {
   "cell_type": "code",
   "execution_count": 68,
   "id": "2c077599-a089-47e4-9a0c-29bedf0a170a",
   "metadata": {},
   "outputs": [],
   "source": [
    "cv_result = pd.DataFrame({'3-fold CV Accuracy':cv3_scores, '5-fold CV Accuracy':cv5_scores, '10-fold CV Accuracy':cv10_scores,\n",
    "                          'Std 3-fold CV Accuracy':cv3_std, 'Std 5-fold CV Accuracy':cv5_std, 'Std 10-fold CV Accuracy':cv10_std}, index=models.keys())"
   ]
  },
  {
   "cell_type": "code",
   "execution_count": 69,
   "id": "0bdfe74c-3ea5-429b-aa99-b641b4a3ea79",
   "metadata": {},
   "outputs": [
    {
     "data": {
      "text/html": [
       "<div>\n",
       "<style scoped>\n",
       "    .dataframe tbody tr th:only-of-type {\n",
       "        vertical-align: middle;\n",
       "    }\n",
       "\n",
       "    .dataframe tbody tr th {\n",
       "        vertical-align: top;\n",
       "    }\n",
       "\n",
       "    .dataframe thead th {\n",
       "        text-align: right;\n",
       "    }\n",
       "</style>\n",
       "<table border=\"1\" class=\"dataframe\">\n",
       "  <thead>\n",
       "    <tr style=\"text-align: right;\">\n",
       "      <th></th>\n",
       "      <th>3-fold CV Accuracy</th>\n",
       "      <th>5-fold CV Accuracy</th>\n",
       "      <th>10-fold CV Accuracy</th>\n",
       "      <th>Std 3-fold CV Accuracy</th>\n",
       "      <th>Std 5-fold CV Accuracy</th>\n",
       "      <th>Std 10-fold CV Accuracy</th>\n",
       "    </tr>\n",
       "  </thead>\n",
       "  <tbody>\n",
       "    <tr>\n",
       "      <th>LR</th>\n",
       "      <td>0.6017</td>\n",
       "      <td>0.5935</td>\n",
       "      <td>0.5892</td>\n",
       "      <td>0.0285</td>\n",
       "      <td>0.0447</td>\n",
       "      <td>0.0674</td>\n",
       "    </tr>\n",
       "    <tr>\n",
       "      <th>DT</th>\n",
       "      <td>0.7929</td>\n",
       "      <td>0.7977</td>\n",
       "      <td>0.8024</td>\n",
       "      <td>0.0372</td>\n",
       "      <td>0.0316</td>\n",
       "      <td>0.0561</td>\n",
       "    </tr>\n",
       "    <tr>\n",
       "      <th>RF</th>\n",
       "      <td>0.8799</td>\n",
       "      <td>0.8878</td>\n",
       "      <td>0.8914</td>\n",
       "      <td>0.0115</td>\n",
       "      <td>0.0077</td>\n",
       "      <td>0.0222</td>\n",
       "    </tr>\n",
       "    <tr>\n",
       "      <th>GB</th>\n",
       "      <td>0.9018</td>\n",
       "      <td>0.9143</td>\n",
       "      <td>0.9160</td>\n",
       "      <td>0.0136</td>\n",
       "      <td>0.0099</td>\n",
       "      <td>0.0205</td>\n",
       "    </tr>\n",
       "    <tr>\n",
       "      <th>KNN</th>\n",
       "      <td>0.6711</td>\n",
       "      <td>0.6943</td>\n",
       "      <td>0.7021</td>\n",
       "      <td>0.0217</td>\n",
       "      <td>0.0741</td>\n",
       "      <td>0.0859</td>\n",
       "    </tr>\n",
       "  </tbody>\n",
       "</table>\n",
       "</div>"
      ],
      "text/plain": [
       "     3-fold CV Accuracy  5-fold CV Accuracy  10-fold CV Accuracy  \\\n",
       "LR               0.6017              0.5935               0.5892   \n",
       "DT               0.7929              0.7977               0.8024   \n",
       "RF               0.8799              0.8878               0.8914   \n",
       "GB               0.9018              0.9143               0.9160   \n",
       "KNN              0.6711              0.6943               0.7021   \n",
       "\n",
       "     Std 3-fold CV Accuracy  Std 5-fold CV Accuracy  Std 10-fold CV Accuracy  \n",
       "LR                   0.0285                  0.0447                   0.0674  \n",
       "DT                   0.0372                  0.0316                   0.0561  \n",
       "RF                   0.0115                  0.0077                   0.0222  \n",
       "GB                   0.0136                  0.0099                   0.0205  \n",
       "KNN                  0.0217                  0.0741                   0.0859  "
      ]
     },
     "execution_count": 69,
     "metadata": {},
     "output_type": "execute_result"
    }
   ],
   "source": [
    "cv_result"
   ]
  },
  {
   "cell_type": "code",
   "execution_count": 70,
   "id": "3d58e3da-16cb-4aa0-8d46-86fadb90f476",
   "metadata": {},
   "outputs": [
    {
     "data": {
      "image/png": "[encoded data removed]",
      "text/plain": [
       "<Figure size 720x576 with 1 Axes>"
      ]
     },
     "metadata": {
      "needs_background": "light"
     },
     "output_type": "display_data"
    }
   ],
   "source": [
    "cv_result[['3-fold CV Accuracy','5-fold CV Accuracy','10-fold CV Accuracy']].plot(kind='bar',figsize=(10, 8))\n",
    "plt.ylabel('R-Squared')\n",
    "plt.ylim([0, 1])\n",
    "plt.xticks(rotation=0)\n",
    "plt.legend();\n",
    "plt.savefig('cv_score.jpg')"
   ]
  },
  {
   "cell_type": "code",
   "execution_count": null,
   "id": "bdf5ca2e-65f9-4ecf-94de-27c86e7f97a9",
   "metadata": {},
   "outputs": [],
   "source": []
  },
  {
   "cell_type": "code",
   "execution_count": null,
   "id": "17478515-7d0a-4c65-8f86-7cb680b72ee8",
   "metadata": {},
   "outputs": [],
   "source": []
  },
  {
   "cell_type": "code",
   "execution_count": 71,
   "id": "5435f37a",
   "metadata": {},
   "outputs": [
    {
     "data": {
      "text/plain": [
       "['cement_model_GB.sav']"
      ]
     },
     "execution_count": 71,
     "metadata": {},
     "output_type": "execute_result"
    }
   ],
   "source": [
    "import joblib\n",
    "joblib.dump(models[\"GB\"], \"cement_model_GB.sav\")"
   ]
  },
  {
   "cell_type": "code",
   "execution_count": null,
   "id": "54b66551-79c1-4b59-a19d-43ee91fc182f",
   "metadata": {},
   "outputs": [],
   "source": []
  }
 ],
 "metadata": {
  "kernelspec": {
   "display_name": "Python 3 (ipykernel)",
   "language": "python",
   "name": "python3"
  },
  "language_info": {
   "codemirror_mode": {
    "name": "ipython",
    "version": 3
   },
   "file_extension": ".py",
   "mimetype": "text/x-python",
   "name": "python",
   "nbconvert_exporter": "python",
   "pygments_lexer": "ipython3",
   "version": "3.8.10"
  }
 },
 "nbformat": 4,
 "nbformat_minor": 5
}
